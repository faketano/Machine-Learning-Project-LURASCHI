{
  "cells": [
    {
      "cell_type": "code",
      "execution_count": 1,
      "metadata": {
        "id": "LY81Oj9NQzCn"
      },
      "outputs": [],
      "source": [
        "# Libraries needed to run the models\n",
        "import os\n",
        "from os import listdir\n",
        "import pandas as pd\n",
        "import numpy as np\n",
        "import matplotlib.pyplot as plt\n",
        "import tensorflow as tf\n",
        "from sklearn.model_selection import train_test_split\n",
        "from tensorflow import keras\n",
        "from tensorflow.keras import layers\n",
        "from tensorflow.keras.models import Sequential\n",
        "from tensorflow.keras.layers import Dense, Activation, Conv2D, MaxPooling2D, Flatten, Dropout\n",
        "from tensorflow.keras.preprocessing.image import ImageDataGenerator\n",
        "from sklearn.model_selection import KFold"
      ]
    },
    {
      "cell_type": "code",
      "execution_count": 2,
      "metadata": {
        "colab": {
          "base_uri": "https://localhost:8080/"
        },
        "id": "9E8iF0udR-3x",
        "outputId": "bd3337de-8cf2-42b5-d9e1-558096c5fbe8"
      },
      "outputs": [
        {
          "name": "stdout",
          "output_type": "stream",
          "text": [
            "Mounted at /content/gdrive/\n"
          ]
        }
      ],
      "source": [
        "# Conecting Colab to the Notebook\n",
        "from google.colab import drive\n",
        "drive.mount('/content/gdrive/', force_remount=True)"
      ]
    },
    {
      "cell_type": "code",
      "execution_count": 3,
      "metadata": {
        "id": "9Ujjh3HkR8Yk"
      },
      "outputs": [],
      "source": [
        "# Unzip Cats and Dog Dataset\n",
        "! unzip -q /content/gdrive/MyDrive/CatsDogs.zip "
      ]
    },
    {
      "cell_type": "code",
      "execution_count": 4,
      "metadata": {
        "id": "jeR8TITOX9Kw"
      },
      "outputs": [],
      "source": [
        "# I have files that are corrupted and not working. I need to take them out. I'll do DATA CLEANING. \n",
        "\n",
        "\n",
        "#DATA CLEANING CATS\n",
        "path_cat = \"/content/CatsDogs/Cats\"\n",
        "for images in os.listdir(path_cat):\n",
        "  try:\n",
        "    fpath = os.path.join(path_cat, images)\n",
        "    fobj = open(fpath, \"rb\")\n",
        "    is_jfif = tf.compat.as_bytes(\"JFIF\") in fobj.peek(10)\n",
        "  finally:\n",
        "    fobj.close()\n",
        "  if not is_jfif:\n",
        "    os.remove(fpath) #REMOVE IT FROM THE DATASET OF CATS\n",
        "\n",
        "# NOW I HAVE A CLEAN DATASET WITHOUT CORRUPTED FILES OF CATS\n"
      ]
    },
    {
      "cell_type": "code",
      "execution_count": 5,
      "metadata": {
        "id": "xho2yOPDfWFB"
      },
      "outputs": [],
      "source": [
        "# SAME PROCESS FOR CLEANING THE FOLDER FOR DOGS. \n",
        "#DATA CLEANING DOGS\n",
        "path_dog = \"/content/CatsDogs/Dogs\"\n",
        "for images in os.listdir(path_dog):\n",
        "  try:\n",
        "    fpath = os.path.join(path_dog, images)\n",
        "    fobj = open(fpath, \"rb\")\n",
        "    is_jfif = tf.compat.as_bytes(\"JFIF\") in fobj.peek(10)\n",
        "  finally:\n",
        "    fobj.close()\n",
        "  if not is_jfif:\n",
        "    os.remove(fpath) #REMOVE IT FROM THE DATASET OF CATS\n",
        "\n",
        "# NOW I HAVE A CLEAN DATASET WITHOUT CORRUPTED FILES OF CATS"
      ]
    },
    {
      "cell_type": "code",
      "execution_count": 6,
      "metadata": {
        "id": "KCQ1f2eqp6P8"
      },
      "outputs": [],
      "source": [
        "# I have the CLEAN CAT immages. I've left behind all the corrupted ones. \n",
        "# I will take the final images, and then create a dataset with their location so I can use a function later on to feed my CNN.\n",
        "original_train_cats = \"/content/CatsDogs/Cats\"\n",
        "filenames_cats = os.listdir(original_train_cats)\n",
        "df_cats = pd.DataFrame({'filename':filenames_cats,'label':\"Cats\"}) # Dataset containing the filename and the cats\n",
        "df_cats['filename'] = '/content/CatsDogs/Cats/' + df_cats['filename'].astype(str)\n"
      ]
    },
    {
      "cell_type": "code",
      "execution_count": 7,
      "metadata": {
        "id": "X352DkmCqBAn"
      },
      "outputs": [],
      "source": [
        "# I'll do exacly the same with the DOGS dataset. \n",
        "original_train_dogs = \"/content/CatsDogs/Dogs\"\n",
        "filenames_dogs = os.listdir(original_train_dogs)\n",
        "df_dogs = pd.DataFrame({'filename':filenames_dogs,'label':\"Dogs\"}) #Dataset containing the filename and the dogs\n",
        "df_dogs['filename'] = '/content/CatsDogs/Dogs/' + df_dogs['filename'].astype(str)\n"
      ]
    },
    {
      "cell_type": "code",
      "execution_count": 8,
      "metadata": {
        "id": "xFwX7rQkqZQh"
      },
      "outputs": [],
      "source": [
        "\n",
        "# I create a new dataset containing the two previous ones\n",
        "df_catsdogs = pd.concat([df_cats, df_dogs]) "
      ]
    },
    {
      "cell_type": "code",
      "execution_count": 9,
      "metadata": {
        "id": "xkrf5lhEq68X"
      },
      "outputs": [],
      "source": [
        "# I mix/shuttle them. I need to do it because if I didn't the model would TRAIN with some images (UNBALANCED) and will TEST only with the other type.\n",
        "df_catsdogs = df_catsdogs.sample(frac=1).reset_index(drop=True)"
      ]
    },
    {
      "cell_type": "code",
      "execution_count": 10,
      "metadata": {
        "colab": {
          "base_uri": "https://localhost:8080/",
          "height": 359
        },
        "id": "2Mr2jvdlqGqH",
        "outputId": "cc6b9182-f133-4701-ffac-4597d3edd2e8"
      },
      "outputs": [
        {
          "data": {
            "text/html": [
              "\n",
              "  <div id=\"df-13814705-7f9f-4fd6-94a3-ca8837117879\">\n",
              "    <div class=\"colab-df-container\">\n",
              "      <div>\n",
              "<style scoped>\n",
              "    .dataframe tbody tr th:only-of-type {\n",
              "        vertical-align: middle;\n",
              "    }\n",
              "\n",
              "    .dataframe tbody tr th {\n",
              "        vertical-align: top;\n",
              "    }\n",
              "\n",
              "    .dataframe thead th {\n",
              "        text-align: right;\n",
              "    }\n",
              "</style>\n",
              "<table border=\"1\" class=\"dataframe\">\n",
              "  <thead>\n",
              "    <tr style=\"text-align: right;\">\n",
              "      <th></th>\n",
              "      <th>filename</th>\n",
              "      <th>label</th>\n",
              "    </tr>\n",
              "  </thead>\n",
              "  <tbody>\n",
              "    <tr>\n",
              "      <th>0</th>\n",
              "      <td>/content/CatsDogs/Cats/5273.jpg</td>\n",
              "      <td>Cats</td>\n",
              "    </tr>\n",
              "    <tr>\n",
              "      <th>1</th>\n",
              "      <td>/content/CatsDogs/Cats/3041.jpg</td>\n",
              "      <td>Cats</td>\n",
              "    </tr>\n",
              "    <tr>\n",
              "      <th>2</th>\n",
              "      <td>/content/CatsDogs/Dogs/1612.jpg</td>\n",
              "      <td>Dogs</td>\n",
              "    </tr>\n",
              "    <tr>\n",
              "      <th>3</th>\n",
              "      <td>/content/CatsDogs/Dogs/3045.jpg</td>\n",
              "      <td>Dogs</td>\n",
              "    </tr>\n",
              "    <tr>\n",
              "      <th>4</th>\n",
              "      <td>/content/CatsDogs/Dogs/6688.jpg</td>\n",
              "      <td>Dogs</td>\n",
              "    </tr>\n",
              "    <tr>\n",
              "      <th>5</th>\n",
              "      <td>/content/CatsDogs/Cats/5698.jpg</td>\n",
              "      <td>Cats</td>\n",
              "    </tr>\n",
              "    <tr>\n",
              "      <th>6</th>\n",
              "      <td>/content/CatsDogs/Cats/3258.jpg</td>\n",
              "      <td>Cats</td>\n",
              "    </tr>\n",
              "    <tr>\n",
              "      <th>7</th>\n",
              "      <td>/content/CatsDogs/Dogs/148.jpg</td>\n",
              "      <td>Dogs</td>\n",
              "    </tr>\n",
              "    <tr>\n",
              "      <th>8</th>\n",
              "      <td>/content/CatsDogs/Cats/7146.jpg</td>\n",
              "      <td>Cats</td>\n",
              "    </tr>\n",
              "    <tr>\n",
              "      <th>9</th>\n",
              "      <td>/content/CatsDogs/Cats/6858.jpg</td>\n",
              "      <td>Cats</td>\n",
              "    </tr>\n",
              "  </tbody>\n",
              "</table>\n",
              "</div>\n",
              "      <button class=\"colab-df-convert\" onclick=\"convertToInteractive('df-13814705-7f9f-4fd6-94a3-ca8837117879')\"\n",
              "              title=\"Convert this dataframe to an interactive table.\"\n",
              "              style=\"display:none;\">\n",
              "        \n",
              "  <svg xmlns=\"http://www.w3.org/2000/svg\" height=\"24px\"viewBox=\"0 0 24 24\"\n",
              "       width=\"24px\">\n",
              "    <path d=\"M0 0h24v24H0V0z\" fill=\"none\"/>\n",
              "    <path d=\"M18.56 5.44l.94 2.06.94-2.06 2.06-.94-2.06-.94-.94-2.06-.94 2.06-2.06.94zm-11 1L8.5 8.5l.94-2.06 2.06-.94-2.06-.94L8.5 2.5l-.94 2.06-2.06.94zm10 10l.94 2.06.94-2.06 2.06-.94-2.06-.94-.94-2.06-.94 2.06-2.06.94z\"/><path d=\"M17.41 7.96l-1.37-1.37c-.4-.4-.92-.59-1.43-.59-.52 0-1.04.2-1.43.59L10.3 9.45l-7.72 7.72c-.78.78-.78 2.05 0 2.83L4 21.41c.39.39.9.59 1.41.59.51 0 1.02-.2 1.41-.59l7.78-7.78 2.81-2.81c.8-.78.8-2.07 0-2.86zM5.41 20L4 18.59l7.72-7.72 1.47 1.35L5.41 20z\"/>\n",
              "  </svg>\n",
              "      </button>\n",
              "      \n",
              "  <style>\n",
              "    .colab-df-container {\n",
              "      display:flex;\n",
              "      flex-wrap:wrap;\n",
              "      gap: 12px;\n",
              "    }\n",
              "\n",
              "    .colab-df-convert {\n",
              "      background-color: #E8F0FE;\n",
              "      border: none;\n",
              "      border-radius: 50%;\n",
              "      cursor: pointer;\n",
              "      display: none;\n",
              "      fill: #1967D2;\n",
              "      height: 32px;\n",
              "      padding: 0 0 0 0;\n",
              "      width: 32px;\n",
              "    }\n",
              "\n",
              "    .colab-df-convert:hover {\n",
              "      background-color: #E2EBFA;\n",
              "      box-shadow: 0px 1px 2px rgba(60, 64, 67, 0.3), 0px 1px 3px 1px rgba(60, 64, 67, 0.15);\n",
              "      fill: #174EA6;\n",
              "    }\n",
              "\n",
              "    [theme=dark] .colab-df-convert {\n",
              "      background-color: #3B4455;\n",
              "      fill: #D2E3FC;\n",
              "    }\n",
              "\n",
              "    [theme=dark] .colab-df-convert:hover {\n",
              "      background-color: #434B5C;\n",
              "      box-shadow: 0px 1px 3px 1px rgba(0, 0, 0, 0.15);\n",
              "      filter: drop-shadow(0px 1px 2px rgba(0, 0, 0, 0.3));\n",
              "      fill: #FFFFFF;\n",
              "    }\n",
              "  </style>\n",
              "\n",
              "      <script>\n",
              "        const buttonEl =\n",
              "          document.querySelector('#df-13814705-7f9f-4fd6-94a3-ca8837117879 button.colab-df-convert');\n",
              "        buttonEl.style.display =\n",
              "          google.colab.kernel.accessAllowed ? 'block' : 'none';\n",
              "\n",
              "        async function convertToInteractive(key) {\n",
              "          const element = document.querySelector('#df-13814705-7f9f-4fd6-94a3-ca8837117879');\n",
              "          const dataTable =\n",
              "            await google.colab.kernel.invokeFunction('convertToInteractive',\n",
              "                                                     [key], {});\n",
              "          if (!dataTable) return;\n",
              "\n",
              "          const docLinkHtml = 'Like what you see? Visit the ' +\n",
              "            '<a target=\"_blank\" href=https://colab.research.google.com/notebooks/data_table.ipynb>data table notebook</a>'\n",
              "            + ' to learn more about interactive tables.';\n",
              "          element.innerHTML = '';\n",
              "          dataTable['output_type'] = 'display_data';\n",
              "          await google.colab.output.renderOutput(dataTable, element);\n",
              "          const docLink = document.createElement('div');\n",
              "          docLink.innerHTML = docLinkHtml;\n",
              "          element.appendChild(docLink);\n",
              "        }\n",
              "      </script>\n",
              "    </div>\n",
              "  </div>\n",
              "  "
            ],
            "text/plain": [
              "                          filename label\n",
              "0  /content/CatsDogs/Cats/5273.jpg  Cats\n",
              "1  /content/CatsDogs/Cats/3041.jpg  Cats\n",
              "2  /content/CatsDogs/Dogs/1612.jpg  Dogs\n",
              "3  /content/CatsDogs/Dogs/3045.jpg  Dogs\n",
              "4  /content/CatsDogs/Dogs/6688.jpg  Dogs\n",
              "5  /content/CatsDogs/Cats/5698.jpg  Cats\n",
              "6  /content/CatsDogs/Cats/3258.jpg  Cats\n",
              "7   /content/CatsDogs/Dogs/148.jpg  Dogs\n",
              "8  /content/CatsDogs/Cats/7146.jpg  Cats\n",
              "9  /content/CatsDogs/Cats/6858.jpg  Cats"
            ]
          },
          "execution_count": 10,
          "metadata": {},
          "output_type": "execute_result"
        }
      ],
      "source": [
        "# Checking the shuffled and final dataset.\n",
        "df_catsdogs.head(10)"
      ]
    },
    {
      "cell_type": "code",
      "execution_count": 11,
      "metadata": {
        "colab": {
          "base_uri": "https://localhost:8080/"
        },
        "id": "tVRut1iCrdHN",
        "outputId": "8e1c35d3-eceb-4c1b-d081-446400193586"
      },
      "outputs": [
        {
          "data": {
            "text/plain": [
              "(23410, 2)"
            ]
          },
          "execution_count": 11,
          "metadata": {},
          "output_type": "execute_result"
        }
      ],
      "source": [
        "df_catsdogs.shape"
      ]
    },
    {
      "cell_type": "code",
      "execution_count": 12,
      "metadata": {
        "id": "2jbRLdyGsxYA"
      },
      "outputs": [],
      "source": [
        "# Get a number of the FIRST 80% shuffleded final dataset.\n",
        "row2 = int(0.8*len(df_catsdogs)) # Create a row number for the first 80% of the dataset."
      ]
    },
    {
      "cell_type": "code",
      "execution_count": 13,
      "metadata": {
        "id": "XezW8D8NskJj"
      },
      "outputs": [],
      "source": [
        "# Divide the original dataset into two pieces. First 80% and then, the 20% at the tail. \n",
        "df_tv = df_catsdogs.iloc[:row2] # Create new dataset. First 80% will be TRAIN AND VALIDATION\n",
        "df_t = df_catsdogs.iloc[row2:] # Create dataset with the remaining 20%. TEST SET\n"
      ]
    },
    {
      "cell_type": "code",
      "execution_count": 14,
      "metadata": {
        "id": "_yCUgvW_ut41"
      },
      "outputs": [],
      "source": [
        "# I use IMAGEDATAGENERATOR to create an object that will be used on my CNN. This is for the Train and Validation. \n",
        "# The horizontal flip and rotation range are parameters that I apply to all my images to improve the fitting\n",
        "\n",
        "datagen_tv = ImageDataGenerator(rescale=1/255., validation_split=0.2, horizontal_flip=True, rotation_range=30) #Data Augmentation"
      ]
    },
    {
      "cell_type": "code",
      "execution_count": 15,
      "metadata": {
        "id": "4snXTGXo60vZ"
      },
      "outputs": [],
      "source": [
        "# Same as before. I use ImageDataGenerator to create an object that will feed my CNN. This is for the TEST SET.\n",
        "# I don't give it any other parameters because I want the most \"RAW\" immages to be tested. I wanna see the real accuracy of the algorithm.\n",
        "datagen_t = ImageDataGenerator(rescale=1/255.) #test set"
      ]
    },
    {
      "cell_type": "code",
      "execution_count": 16,
      "metadata": {
        "colab": {
          "base_uri": "https://localhost:8080/"
        },
        "id": "IIMWAyXPvhzw",
        "outputId": "ad24f420-3914-431b-dac7-9af85b47eb2a"
      },
      "outputs": [
        {
          "name": "stdout",
          "output_type": "stream",
          "text": [
            "Found 14983 validated image filenames belonging to 2 classes.\n",
            "Found 3745 validated image filenames belonging to 2 classes.\n"
          ]
        }
      ],
      "source": [
        "# Using the objects I've just created I take the files from my directory and I create the TRAIN AND VALIDATION.\n",
        "\n",
        "# Train - Datagenerator - TRAIN AND VALIDATION DF\n",
        "train_ds = datagen_tv.flow_from_dataframe(dataframe=df_tv, directory=\"/content/CatsDogs\", x_col='filename', y_col='label', target_size=(128,128), class_mode='binary', subset='training', seed=7) # seed to 7 because of lucky number\n",
        "# Validation - Datagenerator -  TRAIN AND VALIDATION DF\n",
        "valid_ds = datagen_tv.flow_from_dataframe(dataframe=df_tv, directory=\"/content/CatsDogs\", x_col='filename', y_col='label', target_size=(128,128), class_mode='binary', subset='validation', seed=7)"
      ]
    },
    {
      "cell_type": "code",
      "execution_count": 17,
      "metadata": {
        "colab": {
          "base_uri": "https://localhost:8080/"
        },
        "id": "ergTFt1m7wuf",
        "outputId": "107160db-c042-4aa9-a154-53335f2c63e8"
      },
      "outputs": [
        {
          "name": "stdout",
          "output_type": "stream",
          "text": [
            "Found 4682 validated image filenames belonging to 2 classes.\n"
          ]
        }
      ],
      "source": [
        "# Same as before for TESTING when the model is done. RESERVED IMMAGES. I don't do any DATA AUGMENTATION ON THEM. \n",
        "test_set = datagen_t.flow_from_dataframe(dataframe=df_t, directory=\"/content/CatsDogs\", x_col='filename', y_col='label', target_size=(128,128), class_mode='binary', shuffle=False)"
      ]
    },
    {
      "cell_type": "markdown",
      "metadata": {
        "id": "FI1gr1vpGM9v"
      },
      "source": [
        "Now that I have created the structure needed to run the models. I'll try different approaces to see what works good. "
      ]
    },
    {
      "cell_type": "code",
      "execution_count": null,
      "metadata": {
        "id": "XSBS6wBfGu16"
      },
      "outputs": [],
      "source": [
        "# FIRST MODEL\n",
        "first_model = Sequential() \n",
        "first_model.add(Conv2D(filters= 16, kernel_size = (3,3), input_shape = (128, 128,3))) #Filter 16 to catch features\n",
        "first_model.add(Activation(\"relu\"))\n"
      ]
    },
    {
      "cell_type": "code",
      "execution_count": null,
      "metadata": {
        "id": "e6sIxS1dGu5R"
      },
      "outputs": [],
      "source": [
        "# FIRST MODEL Flatten\n",
        "first_model.add(Flatten())\n",
        "first_model.add(Dense(64))\n",
        "first_model.add(Activation(\"relu\"))\n",
        "first_model.add(Dropout(0.2))"
      ]
    },
    {
      "cell_type": "code",
      "execution_count": null,
      "metadata": {
        "id": "OgL-6R8OGu8q"
      },
      "outputs": [],
      "source": [
        "#Output layer of Original Model\n",
        "first_model.add(Dense(1))\n",
        "first_model.add(Activation('sigmoid'))"
      ]
    },
    {
      "cell_type": "code",
      "execution_count": null,
      "metadata": {
        "id": "NPLr4UWyGu_l"
      },
      "outputs": [],
      "source": [
        "\n",
        "# COMPILE\n",
        "first_model.compile(optimizer='adam',loss='binary_crossentropy', metrics = ['accuracy'])"
      ]
    },
    {
      "cell_type": "code",
      "execution_count": null,
      "metadata": {
        "colab": {
          "base_uri": "https://localhost:8080/"
        },
        "id": "kRxxOLiDGvCm",
        "outputId": "fa78577c-1434-461d-a1b4-f1716b0b06d7"
      },
      "outputs": [
        {
          "name": "stdout",
          "output_type": "stream",
          "text": [
            "Model: \"sequential_5\"\n",
            "_________________________________________________________________\n",
            " Layer (type)                Output Shape              Param #   \n",
            "=================================================================\n",
            " conv2d_15 (Conv2D)          (None, 126, 126, 16)      448       \n",
            "                                                                 \n",
            " activation_25 (Activation)  (None, 126, 126, 16)      0         \n",
            "                                                                 \n",
            " flatten_5 (Flatten)         (None, 254016)            0         \n",
            "                                                                 \n",
            " dense_10 (Dense)            (None, 64)                16257088  \n",
            "                                                                 \n",
            " activation_26 (Activation)  (None, 64)                0         \n",
            "                                                                 \n",
            " dropout_20 (Dropout)        (None, 64)                0         \n",
            "                                                                 \n",
            " dense_11 (Dense)            (None, 1)                 65        \n",
            "                                                                 \n",
            " activation_27 (Activation)  (None, 1)                 0         \n",
            "                                                                 \n",
            "=================================================================\n",
            "Total params: 16,257,601\n",
            "Trainable params: 16,257,601\n",
            "Non-trainable params: 0\n",
            "_________________________________________________________________\n"
          ]
        }
      ],
      "source": [
        "# Summary of FIRST MODEL\n",
        "first_model.summary() # 16 MILLION PARAMETERS. DEFINITELY TOO HIGH! I NEED TO DROP THEM OUT! REDUCE IT IN NEXT MODELS. "
      ]
    },
    {
      "cell_type": "code",
      "execution_count": null,
      "metadata": {
        "colab": {
          "base_uri": "https://localhost:8080/"
        },
        "id": "2RyN1rWTGvFh",
        "outputId": "839ac42a-17f9-4ee6-9aba-028eb6612139"
      },
      "outputs": [
        {
          "name": "stdout",
          "output_type": "stream",
          "text": [
            "Epoch 1/55\n",
            "469/469 [==============================] - 112s 237ms/step - loss: 0.8968 - accuracy: 0.6158 - val_loss: 0.6083 - val_accuracy: 0.6756\n",
            "Epoch 2/55\n",
            "469/469 [==============================] - 111s 236ms/step - loss: 0.6016 - accuracy: 0.6779 - val_loss: 0.5838 - val_accuracy: 0.6908\n",
            "Epoch 3/55\n",
            "469/469 [==============================] - 111s 236ms/step - loss: 0.5826 - accuracy: 0.6913 - val_loss: 0.5762 - val_accuracy: 0.6937\n",
            "Epoch 4/55\n",
            "469/469 [==============================] - 110s 236ms/step - loss: 0.5643 - accuracy: 0.7076 - val_loss: 0.5453 - val_accuracy: 0.7186\n",
            "Epoch 5/55\n",
            "469/469 [==============================] - 111s 236ms/step - loss: 0.5484 - accuracy: 0.7224 - val_loss: 0.5487 - val_accuracy: 0.7298\n",
            "Epoch 6/55\n",
            "469/469 [==============================] - 110s 235ms/step - loss: 0.5474 - accuracy: 0.7185 - val_loss: 0.5460 - val_accuracy: 0.7194\n",
            "Epoch 7/55\n",
            "469/469 [==============================] - 110s 235ms/step - loss: 0.5389 - accuracy: 0.7328 - val_loss: 0.5496 - val_accuracy: 0.7146\n",
            "Epoch 8/55\n",
            "469/469 [==============================] - 110s 236ms/step - loss: 0.5271 - accuracy: 0.7357 - val_loss: 0.5309 - val_accuracy: 0.7383\n",
            "Epoch 9/55\n",
            "469/469 [==============================] - 111s 237ms/step - loss: 0.5200 - accuracy: 0.7377 - val_loss: 0.5457 - val_accuracy: 0.7218\n",
            "Epoch 10/55\n",
            "469/469 [==============================] - 110s 235ms/step - loss: 0.5236 - accuracy: 0.7373 - val_loss: 0.5350 - val_accuracy: 0.7343\n",
            "Epoch 11/55\n",
            "469/469 [==============================] - 111s 236ms/step - loss: 0.5090 - accuracy: 0.7491 - val_loss: 0.5257 - val_accuracy: 0.7399\n",
            "Epoch 12/55\n",
            "469/469 [==============================] - 110s 236ms/step - loss: 0.5109 - accuracy: 0.7452 - val_loss: 0.5302 - val_accuracy: 0.7407\n",
            "Epoch 13/55\n",
            "469/469 [==============================] - 111s 236ms/step - loss: 0.5093 - accuracy: 0.7472 - val_loss: 0.5506 - val_accuracy: 0.7151\n",
            "Epoch 14/55\n",
            "469/469 [==============================] - 111s 236ms/step - loss: 0.5018 - accuracy: 0.7542 - val_loss: 0.5081 - val_accuracy: 0.7453\n",
            "Epoch 15/55\n",
            "469/469 [==============================] - 111s 236ms/step - loss: 0.4920 - accuracy: 0.7582 - val_loss: 0.5287 - val_accuracy: 0.7466\n",
            "Epoch 16/55\n",
            "469/469 [==============================] - 110s 235ms/step - loss: 0.4936 - accuracy: 0.7581 - val_loss: 0.5268 - val_accuracy: 0.7447\n",
            "Epoch 17/55\n",
            "469/469 [==============================] - 111s 236ms/step - loss: 0.4875 - accuracy: 0.7593 - val_loss: 0.5468 - val_accuracy: 0.7308\n",
            "Epoch 18/55\n",
            "469/469 [==============================] - 111s 236ms/step - loss: 0.4821 - accuracy: 0.7665 - val_loss: 0.5083 - val_accuracy: 0.7511\n",
            "Epoch 19/55\n",
            "469/469 [==============================] - 110s 236ms/step - loss: 0.4815 - accuracy: 0.7685 - val_loss: 0.5246 - val_accuracy: 0.7386\n",
            "Epoch 20/55\n",
            "469/469 [==============================] - 111s 236ms/step - loss: 0.4775 - accuracy: 0.7687 - val_loss: 0.5056 - val_accuracy: 0.7605\n",
            "Epoch 21/55\n",
            "469/469 [==============================] - 111s 236ms/step - loss: 0.4746 - accuracy: 0.7711 - val_loss: 0.5130 - val_accuracy: 0.7514\n",
            "Epoch 22/55\n",
            "469/469 [==============================] - 111s 236ms/step - loss: 0.4669 - accuracy: 0.7751 - val_loss: 0.5237 - val_accuracy: 0.7455\n",
            "Epoch 23/55\n",
            "469/469 [==============================] - 111s 236ms/step - loss: 0.4653 - accuracy: 0.7752 - val_loss: 0.5060 - val_accuracy: 0.7573\n",
            "Epoch 24/55\n",
            "469/469 [==============================] - 111s 236ms/step - loss: 0.4716 - accuracy: 0.7735 - val_loss: 0.5105 - val_accuracy: 0.7527\n",
            "Epoch 25/55\n",
            "469/469 [==============================] - 110s 236ms/step - loss: 0.4573 - accuracy: 0.7797 - val_loss: 0.5059 - val_accuracy: 0.7664\n",
            "Epoch 26/55\n",
            "469/469 [==============================] - 110s 236ms/step - loss: 0.4501 - accuracy: 0.7834 - val_loss: 0.5094 - val_accuracy: 0.7538\n",
            "Epoch 27/55\n",
            "469/469 [==============================] - 110s 235ms/step - loss: 0.4500 - accuracy: 0.7854 - val_loss: 0.5171 - val_accuracy: 0.7506\n",
            "Epoch 28/55\n",
            "469/469 [==============================] - 111s 236ms/step - loss: 0.4523 - accuracy: 0.7828 - val_loss: 0.5048 - val_accuracy: 0.7546\n",
            "Epoch 29/55\n",
            "469/469 [==============================] - 111s 237ms/step - loss: 0.4423 - accuracy: 0.7898 - val_loss: 0.5099 - val_accuracy: 0.7581\n",
            "Epoch 30/55\n",
            "469/469 [==============================] - 111s 236ms/step - loss: 0.4465 - accuracy: 0.7884 - val_loss: 0.5181 - val_accuracy: 0.7557\n",
            "Epoch 31/55\n",
            "469/469 [==============================] - 111s 236ms/step - loss: 0.4443 - accuracy: 0.7880 - val_loss: 0.5154 - val_accuracy: 0.7458\n",
            "Epoch 32/55\n",
            "469/469 [==============================] - 110s 235ms/step - loss: 0.4371 - accuracy: 0.7932 - val_loss: 0.5104 - val_accuracy: 0.7514\n",
            "Epoch 33/55\n",
            "469/469 [==============================] - 110s 235ms/step - loss: 0.4376 - accuracy: 0.7948 - val_loss: 0.4960 - val_accuracy: 0.7698\n",
            "Epoch 34/55\n",
            "469/469 [==============================] - 110s 236ms/step - loss: 0.4293 - accuracy: 0.7989 - val_loss: 0.5080 - val_accuracy: 0.7573\n",
            "Epoch 35/55\n",
            "469/469 [==============================] - 111s 236ms/step - loss: 0.4283 - accuracy: 0.7982 - val_loss: 0.5078 - val_accuracy: 0.7565\n",
            "Epoch 36/55\n",
            "469/469 [==============================] - 110s 236ms/step - loss: 0.4273 - accuracy: 0.7970 - val_loss: 0.5266 - val_accuracy: 0.7551\n",
            "Epoch 37/55\n",
            "469/469 [==============================] - 110s 235ms/step - loss: 0.4273 - accuracy: 0.8040 - val_loss: 0.5001 - val_accuracy: 0.7594\n",
            "Epoch 38/55\n",
            "469/469 [==============================] - 111s 236ms/step - loss: 0.4203 - accuracy: 0.8038 - val_loss: 0.5195 - val_accuracy: 0.7581\n",
            "Epoch 39/55\n",
            "469/469 [==============================] - 111s 236ms/step - loss: 0.4201 - accuracy: 0.7996 - val_loss: 0.5077 - val_accuracy: 0.7621\n",
            "Epoch 40/55\n",
            "469/469 [==============================] - 111s 236ms/step - loss: 0.4119 - accuracy: 0.8071 - val_loss: 0.5036 - val_accuracy: 0.7674\n",
            "Epoch 41/55\n",
            "469/469 [==============================] - 111s 236ms/step - loss: 0.4187 - accuracy: 0.8044 - val_loss: 0.5094 - val_accuracy: 0.7597\n",
            "Epoch 42/55\n",
            "469/469 [==============================] - 110s 236ms/step - loss: 0.4090 - accuracy: 0.8113 - val_loss: 0.5453 - val_accuracy: 0.7493\n",
            "Epoch 43/55\n",
            "469/469 [==============================] - 110s 236ms/step - loss: 0.4107 - accuracy: 0.8078 - val_loss: 0.5268 - val_accuracy: 0.7477\n",
            "Epoch 44/55\n",
            "469/469 [==============================] - 111s 236ms/step - loss: 0.4039 - accuracy: 0.8097 - val_loss: 0.5145 - val_accuracy: 0.7525\n",
            "Epoch 45/55\n",
            "469/469 [==============================] - 111s 237ms/step - loss: 0.4009 - accuracy: 0.8127 - val_loss: 0.5168 - val_accuracy: 0.7626\n",
            "Epoch 46/55\n",
            "469/469 [==============================] - 111s 236ms/step - loss: 0.4033 - accuracy: 0.8137 - val_loss: 0.5119 - val_accuracy: 0.7613\n",
            "Epoch 47/55\n",
            "469/469 [==============================] - 111s 236ms/step - loss: 0.3952 - accuracy: 0.8179 - val_loss: 0.5314 - val_accuracy: 0.7578\n",
            "Epoch 48/55\n",
            "469/469 [==============================] - 110s 235ms/step - loss: 0.3994 - accuracy: 0.8153 - val_loss: 0.5230 - val_accuracy: 0.7583\n",
            "Epoch 49/55\n",
            "469/469 [==============================] - 111s 236ms/step - loss: 0.4042 - accuracy: 0.8152 - val_loss: 0.5128 - val_accuracy: 0.7664\n",
            "Epoch 50/55\n",
            "469/469 [==============================] - 112s 238ms/step - loss: 0.3950 - accuracy: 0.8169 - val_loss: 0.5146 - val_accuracy: 0.7666\n",
            "Epoch 51/55\n",
            "469/469 [==============================] - 112s 238ms/step - loss: 0.3954 - accuracy: 0.8137 - val_loss: 0.5141 - val_accuracy: 0.7567\n",
            "Epoch 52/55\n",
            "469/469 [==============================] - 110s 235ms/step - loss: 0.3845 - accuracy: 0.8223 - val_loss: 0.5194 - val_accuracy: 0.7615\n",
            "Epoch 53/55\n",
            "469/469 [==============================] - 111s 236ms/step - loss: 0.3916 - accuracy: 0.8197 - val_loss: 0.5131 - val_accuracy: 0.7672\n",
            "Epoch 54/55\n",
            "469/469 [==============================] - 111s 236ms/step - loss: 0.3859 - accuracy: 0.8222 - val_loss: 0.5276 - val_accuracy: 0.7674\n",
            "Epoch 55/55\n",
            "469/469 [==============================] - 110s 235ms/step - loss: 0.3849 - accuracy: 0.8249 - val_loss: 0.5296 - val_accuracy: 0.7543\n"
          ]
        }
      ],
      "source": [
        "# FIRST MODEL FITTING\n",
        "first_model_fit = first_model.fit(train_ds, epochs=55, validation_data = valid_ds) # FIRST MODEL"
      ]
    },
    {
      "cell_type": "code",
      "execution_count": null,
      "metadata": {
        "colab": {
          "base_uri": "https://localhost:8080/",
          "height": 427
        },
        "id": "eD71h-cOW83v",
        "outputId": "466d38a6-a369-4b01-e190-43d8b7b4c26e"
      },
      "outputs": [
        {
          "data": {
            "text/plain": [
              "<matplotlib.legend.Legend at 0x7ff81ab01ed0>"
            ]
          },
          "execution_count": 36,
          "metadata": {},
          "output_type": "execute_result"
        },
        {
          "data": {
            "image/png": "[encoded data removed]",
            "text/plain": [
              "<Figure size 1000x400 with 2 Axes>"
            ]
          },
          "metadata": {},
          "output_type": "display_data"
        }
      ],
      "source": [
        "# Graph for Accuracy and Loss\n",
        "\n",
        "plt.figure(figsize=(10,4))\n",
        "\n",
        "plt.subplot(1,2,1)\n",
        "plt.plot(first_model_fit.history['accuracy'])\n",
        "plt.plot(first_model_fit.history['val_accuracy'])\n",
        "plt.title(\"Accuracy\")\n",
        "plt.xlabel(\"Epoch\")\n",
        "plt.ylabel(\"Accuracy\")\n",
        "plt.legend(['Accuracy', 'Validation Accuracy'])\n",
        "\n",
        "plt.subplot(1,2,2)\n",
        "plt.plot(first_model_fit.history['loss'])\n",
        "plt.plot(first_model_fit.history['val_loss'])\n",
        "plt.title(\"Loss\")\n",
        "plt.xlabel(\"Epoch\")\n",
        "plt.ylabel(\"Loss\")\n",
        "plt.legend(['Loss', 'Validation Loss'])"
      ]
    },
    {
      "cell_type": "code",
      "execution_count": null,
      "metadata": {
        "id": "co7tvJlundBY"
      },
      "outputs": [],
      "source": [
        " # Saving the weights of the model to run it later if needed. \n",
        "first_model.save_weights('first_model_ml.h5')"
      ]
    },
    {
      "cell_type": "code",
      "execution_count": null,
      "metadata": {
        "colab": {
          "base_uri": "https://localhost:8080/"
        },
        "id": "xdvHlCzVMTP5",
        "outputId": "00c0e26d-8a47-44e6-c255-1b9c513fc13d"
      },
      "outputs": [
        {
          "name": "stdout",
          "output_type": "stream",
          "text": [
            "147/147 [==============================] - 13s 91ms/step - loss: 0.5545 - accuracy: 0.7666\n"
          ]
        },
        {
          "data": {
            "text/plain": [
              "[0.5545288324356079, 0.766552746295929]"
            ]
          },
          "execution_count": 32,
          "metadata": {},
          "output_type": "execute_result"
        }
      ],
      "source": [
        "# Evaluate first model. #Accuracy of 0.76 on the test set. \n",
        "first_model.evaluate(test_set)"
      ]
    },
    {
      "cell_type": "markdown",
      "metadata": {
        "id": "Kq_KGl7-cXok"
      },
      "source": [
        "I need to fix overfitting. I try new model. It is called model 2 on report, but here it is Improved first model. "
      ]
    },
    {
      "cell_type": "code",
      "execution_count": null,
      "metadata": {
        "id": "SxCFQJtJnvJh"
      },
      "outputs": [],
      "source": [
        "\n",
        "# IMPROVED FIRST MODEL. I try to avoid overfitting. Add maxpooling and dropout. In report it is called SECOND MODEL\n",
        "improved_first_model = Sequential() \n",
        "improved_first_model.add(Conv2D(filters= 16, kernel_size = (3,3), input_shape = (128, 128,3))) #Filter 16 to catch features\n",
        "improved_first_model.add(Activation(\"relu\"))\n",
        "improved_first_model.add(MaxPooling2D(pool_size = (2,2)))\n",
        "improved_first_model.add(Dropout(0.3))\n",
        "\n"
      ]
    },
    {
      "cell_type": "code",
      "execution_count": null,
      "metadata": {
        "id": "wSAXpdYvnvT4"
      },
      "outputs": [],
      "source": [
        "# IMPROVED FIRST MODEL Flatten\n",
        "improved_first_model.add(Flatten())\n",
        "improved_first_model.add(Dense(64))\n",
        "improved_first_model.add(Activation(\"relu\"))\n",
        "improved_first_model.add(Dropout(0.6))"
      ]
    },
    {
      "cell_type": "code",
      "execution_count": null,
      "metadata": {
        "id": "m56l5z83nvcB"
      },
      "outputs": [],
      "source": [
        "# IMPROVED FIRST MODEL #Output layer of Original Model\n",
        "improved_first_model.add(Dense(1))\n",
        "improved_first_model.add(Activation('sigmoid'))"
      ]
    },
    {
      "cell_type": "code",
      "execution_count": null,
      "metadata": {
        "id": "fCZeZQH7nvjj"
      },
      "outputs": [],
      "source": [
        "\n",
        "# COMPILE\n",
        "improved_first_model.compile(optimizer='adam',loss='binary_crossentropy', metrics = ['accuracy'])"
      ]
    },
    {
      "cell_type": "code",
      "execution_count": null,
      "metadata": {
        "colab": {
          "base_uri": "https://localhost:8080/"
        },
        "id": "zsKwJbK3nvqE",
        "outputId": "d8df4455-48c0-4d4e-9b65-675b341325d8"
      },
      "outputs": [
        {
          "name": "stdout",
          "output_type": "stream",
          "text": [
            "Model: \"sequential\"\n",
            "_________________________________________________________________\n",
            " Layer (type)                Output Shape              Param #   \n",
            "=================================================================\n",
            " conv2d (Conv2D)             (None, 126, 126, 16)      448       \n",
            "                                                                 \n",
            " activation (Activation)     (None, 126, 126, 16)      0         \n",
            "                                                                 \n",
            " max_pooling2d (MaxPooling2D  (None, 63, 63, 16)       0         \n",
            " )                                                               \n",
            "                                                                 \n",
            " dropout (Dropout)           (None, 63, 63, 16)        0         \n",
            "                                                                 \n",
            " flatten (Flatten)           (None, 63504)             0         \n",
            "                                                                 \n",
            " dense (Dense)               (None, 64)                4064320   \n",
            "                                                                 \n",
            " activation_1 (Activation)   (None, 64)                0         \n",
            "                                                                 \n",
            " dropout_1 (Dropout)         (None, 64)                0         \n",
            "                                                                 \n",
            " dense_1 (Dense)             (None, 1)                 65        \n",
            "                                                                 \n",
            " activation_2 (Activation)   (None, 1)                 0         \n",
            "                                                                 \n",
            "=================================================================\n",
            "Total params: 4,064,833\n",
            "Trainable params: 4,064,833\n",
            "Non-trainable params: 0\n",
            "_________________________________________________________________\n"
          ]
        }
      ],
      "source": [
        "# SECOND MODEL SUMMARY. Number of trainable parameters has been reduced drastically. Strategy worked. Good. \n",
        "improved_first_model.summary()"
      ]
    },
    {
      "cell_type": "code",
      "execution_count": null,
      "metadata": {
        "colab": {
          "base_uri": "https://localhost:8080/"
        },
        "id": "D0mOoWFgnvus",
        "outputId": "010aa5ed-520c-42c1-8b99-2aca3de4c300"
      },
      "outputs": [
        {
          "name": "stdout",
          "output_type": "stream",
          "text": [
            "Epoch 1/55\n",
            "469/469 [==============================] - 149s 292ms/step - loss: 0.7334 - accuracy: 0.5235 - val_loss: 0.6773 - val_accuracy: 0.5928\n",
            "Epoch 2/55\n",
            "469/469 [==============================] - 125s 267ms/step - loss: 0.6808 - accuracy: 0.5404 - val_loss: 0.6642 - val_accuracy: 0.6208\n",
            "Epoch 3/55\n",
            "469/469 [==============================] - 138s 295ms/step - loss: 0.6666 - accuracy: 0.5722 - val_loss: 0.6488 - val_accuracy: 0.6414\n",
            "Epoch 4/55\n",
            "469/469 [==============================] - 123s 262ms/step - loss: 0.6518 - accuracy: 0.5958 - val_loss: 0.6158 - val_accuracy: 0.6790\n",
            "Epoch 5/55\n",
            "469/469 [==============================] - 120s 256ms/step - loss: 0.6331 - accuracy: 0.6322 - val_loss: 0.5894 - val_accuracy: 0.6913\n",
            "Epoch 6/55\n",
            "469/469 [==============================] - 120s 257ms/step - loss: 0.6154 - accuracy: 0.6609 - val_loss: 0.5916 - val_accuracy: 0.6943\n",
            "Epoch 7/55\n",
            "469/469 [==============================] - 120s 257ms/step - loss: 0.6017 - accuracy: 0.6629 - val_loss: 0.5710 - val_accuracy: 0.7164\n",
            "Epoch 8/55\n",
            "469/469 [==============================] - 120s 257ms/step - loss: 0.5963 - accuracy: 0.6724 - val_loss: 0.5746 - val_accuracy: 0.7132\n",
            "Epoch 9/55\n",
            "469/469 [==============================] - 120s 257ms/step - loss: 0.5916 - accuracy: 0.6739 - val_loss: 0.5618 - val_accuracy: 0.7175\n",
            "Epoch 10/55\n",
            "469/469 [==============================] - 120s 255ms/step - loss: 0.5898 - accuracy: 0.6757 - val_loss: 0.5486 - val_accuracy: 0.7204\n",
            "Epoch 11/55\n",
            "469/469 [==============================] - 138s 295ms/step - loss: 0.5843 - accuracy: 0.6774 - val_loss: 0.5433 - val_accuracy: 0.7239\n",
            "Epoch 12/55\n",
            "469/469 [==============================] - 122s 260ms/step - loss: 0.5783 - accuracy: 0.6771 - val_loss: 0.5436 - val_accuracy: 0.7292\n",
            "Epoch 13/55\n",
            "469/469 [==============================] - 138s 295ms/step - loss: 0.5765 - accuracy: 0.6840 - val_loss: 0.5586 - val_accuracy: 0.7138\n",
            "Epoch 14/55\n",
            "469/469 [==============================] - 121s 257ms/step - loss: 0.5679 - accuracy: 0.7005 - val_loss: 0.5494 - val_accuracy: 0.7306\n",
            "Epoch 15/55\n",
            "469/469 [==============================] - 119s 254ms/step - loss: 0.5683 - accuracy: 0.7020 - val_loss: 0.5385 - val_accuracy: 0.7274\n",
            "Epoch 16/55\n",
            "469/469 [==============================] - 121s 258ms/step - loss: 0.5603 - accuracy: 0.7143 - val_loss: 0.5241 - val_accuracy: 0.7394\n",
            "Epoch 17/55\n",
            "469/469 [==============================] - 121s 257ms/step - loss: 0.5610 - accuracy: 0.7111 - val_loss: 0.5351 - val_accuracy: 0.7290\n",
            "Epoch 18/55\n",
            "469/469 [==============================] - 118s 252ms/step - loss: 0.5606 - accuracy: 0.7086 - val_loss: 0.5334 - val_accuracy: 0.7367\n",
            "Epoch 19/55\n",
            "469/469 [==============================] - 120s 256ms/step - loss: 0.5553 - accuracy: 0.7100 - val_loss: 0.5354 - val_accuracy: 0.7359\n",
            "Epoch 20/55\n",
            "469/469 [==============================] - 121s 258ms/step - loss: 0.5495 - accuracy: 0.7235 - val_loss: 0.5328 - val_accuracy: 0.7399\n",
            "Epoch 21/55\n",
            "469/469 [==============================] - 118s 253ms/step - loss: 0.5547 - accuracy: 0.7159 - val_loss: 0.5276 - val_accuracy: 0.7375\n",
            "Epoch 22/55\n",
            "469/469 [==============================] - 119s 254ms/step - loss: 0.5467 - accuracy: 0.7175 - val_loss: 0.5287 - val_accuracy: 0.7389\n",
            "Epoch 23/55\n",
            "469/469 [==============================] - 120s 255ms/step - loss: 0.5423 - accuracy: 0.7179 - val_loss: 0.5576 - val_accuracy: 0.7057\n",
            "Epoch 24/55\n",
            "469/469 [==============================] - 118s 252ms/step - loss: 0.5437 - accuracy: 0.7202 - val_loss: 0.5256 - val_accuracy: 0.7306\n",
            "Epoch 25/55\n",
            "469/469 [==============================] - 121s 258ms/step - loss: 0.5407 - accuracy: 0.7228 - val_loss: 0.5184 - val_accuracy: 0.7439\n",
            "Epoch 26/55\n",
            "469/469 [==============================] - 120s 256ms/step - loss: 0.5385 - accuracy: 0.7283 - val_loss: 0.5195 - val_accuracy: 0.7487\n",
            "Epoch 27/55\n",
            "469/469 [==============================] - 137s 293ms/step - loss: 0.5334 - accuracy: 0.7270 - val_loss: 0.5122 - val_accuracy: 0.7498\n",
            "Epoch 28/55\n",
            "469/469 [==============================] - 120s 257ms/step - loss: 0.5334 - accuracy: 0.7340 - val_loss: 0.5218 - val_accuracy: 0.7533\n",
            "Epoch 29/55\n",
            "469/469 [==============================] - 138s 294ms/step - loss: 0.5302 - accuracy: 0.7292 - val_loss: 0.5095 - val_accuracy: 0.7530\n",
            "Epoch 30/55\n",
            "469/469 [==============================] - 121s 258ms/step - loss: 0.5339 - accuracy: 0.7324 - val_loss: 0.5141 - val_accuracy: 0.7511\n",
            "Epoch 31/55\n",
            "469/469 [==============================] - 121s 258ms/step - loss: 0.5289 - accuracy: 0.7355 - val_loss: 0.5205 - val_accuracy: 0.7386\n",
            "Epoch 32/55\n",
            "469/469 [==============================] - 121s 257ms/step - loss: 0.5321 - accuracy: 0.7286 - val_loss: 0.5106 - val_accuracy: 0.7477\n",
            "Epoch 33/55\n",
            "469/469 [==============================] - 121s 258ms/step - loss: 0.5243 - accuracy: 0.7346 - val_loss: 0.5217 - val_accuracy: 0.7381\n",
            "Epoch 34/55\n",
            "469/469 [==============================] - 120s 256ms/step - loss: 0.5250 - accuracy: 0.7346 - val_loss: 0.5162 - val_accuracy: 0.7447\n",
            "Epoch 35/55\n",
            "469/469 [==============================] - 121s 257ms/step - loss: 0.5265 - accuracy: 0.7334 - val_loss: 0.5254 - val_accuracy: 0.7354\n",
            "Epoch 36/55\n",
            "469/469 [==============================] - 122s 260ms/step - loss: 0.5242 - accuracy: 0.7317 - val_loss: 0.5157 - val_accuracy: 0.7506\n",
            "Epoch 37/55\n",
            "469/469 [==============================] - 139s 297ms/step - loss: 0.5262 - accuracy: 0.7343 - val_loss: 0.5111 - val_accuracy: 0.7525\n",
            "Epoch 38/55\n",
            "469/469 [==============================] - 122s 261ms/step - loss: 0.5183 - accuracy: 0.7390 - val_loss: 0.5144 - val_accuracy: 0.7519\n",
            "Epoch 39/55\n",
            "469/469 [==============================] - 139s 297ms/step - loss: 0.5157 - accuracy: 0.7431 - val_loss: 0.5092 - val_accuracy: 0.7474\n",
            "Epoch 40/55\n",
            "469/469 [==============================] - 139s 297ms/step - loss: 0.5189 - accuracy: 0.7448 - val_loss: 0.5127 - val_accuracy: 0.7557\n",
            "Epoch 41/55\n",
            "469/469 [==============================] - 123s 262ms/step - loss: 0.5156 - accuracy: 0.7431 - val_loss: 0.5146 - val_accuracy: 0.7413\n",
            "Epoch 42/55\n",
            "469/469 [==============================] - 122s 260ms/step - loss: 0.5196 - accuracy: 0.7420 - val_loss: 0.5075 - val_accuracy: 0.7554\n",
            "Epoch 43/55\n",
            "469/469 [==============================] - 138s 294ms/step - loss: 0.5130 - accuracy: 0.7439 - val_loss: 0.5075 - val_accuracy: 0.7517\n",
            "Epoch 44/55\n",
            "469/469 [==============================] - 121s 257ms/step - loss: 0.5099 - accuracy: 0.7468 - val_loss: 0.5149 - val_accuracy: 0.7511\n",
            "Epoch 45/55\n",
            "469/469 [==============================] - 120s 255ms/step - loss: 0.5104 - accuracy: 0.7463 - val_loss: 0.5098 - val_accuracy: 0.7533\n",
            "Epoch 46/55\n",
            "469/469 [==============================] - 120s 257ms/step - loss: 0.5163 - accuracy: 0.7413 - val_loss: 0.5049 - val_accuracy: 0.7602\n",
            "Epoch 47/55\n",
            "469/469 [==============================] - 120s 257ms/step - loss: 0.5040 - accuracy: 0.7465 - val_loss: 0.5223 - val_accuracy: 0.7442\n",
            "Epoch 48/55\n",
            "469/469 [==============================] - 138s 294ms/step - loss: 0.5086 - accuracy: 0.7502 - val_loss: 0.5129 - val_accuracy: 0.7535\n",
            "Epoch 49/55\n",
            "469/469 [==============================] - 121s 258ms/step - loss: 0.4969 - accuracy: 0.7487 - val_loss: 0.5029 - val_accuracy: 0.7498\n",
            "Epoch 50/55\n",
            "469/469 [==============================] - 138s 294ms/step - loss: 0.5053 - accuracy: 0.7494 - val_loss: 0.5093 - val_accuracy: 0.7461\n",
            "Epoch 51/55\n",
            "469/469 [==============================] - 120s 257ms/step - loss: 0.5073 - accuracy: 0.7512 - val_loss: 0.5060 - val_accuracy: 0.7541\n",
            "Epoch 52/55\n",
            "469/469 [==============================] - 120s 256ms/step - loss: 0.5067 - accuracy: 0.7442 - val_loss: 0.5004 - val_accuracy: 0.7626\n",
            "Epoch 53/55\n",
            "469/469 [==============================] - 121s 258ms/step - loss: 0.5069 - accuracy: 0.7446 - val_loss: 0.5090 - val_accuracy: 0.7562\n",
            "Epoch 54/55\n",
            "469/469 [==============================] - 123s 262ms/step - loss: 0.5013 - accuracy: 0.7529 - val_loss: 0.5095 - val_accuracy: 0.7525\n",
            "Epoch 55/55\n",
            "469/469 [==============================] - 120s 257ms/step - loss: 0.5018 - accuracy: 0.7470 - val_loss: 0.5111 - val_accuracy: 0.7479\n"
          ]
        }
      ],
      "source": [
        "#Validation\n",
        "improved_first_model_model_fit = improved_first_model.fit(train_ds, epochs=55, validation_data = valid_ds) #Now I have solved the overfitting. But I need to REPARAMETRIZE. To improve the performance."
      ]
    },
    {
      "cell_type": "code",
      "execution_count": null,
      "metadata": {
        "colab": {
          "base_uri": "https://localhost:8080/",
          "height": 427
        },
        "id": "LwzinN_J8M_p",
        "outputId": "82ac62a1-90e1-499a-f758-2e2dd0f40716"
      },
      "outputs": [
        {
          "data": {
            "text/plain": [
              "<matplotlib.legend.Legend at 0x7f26b81e5c00>"
            ]
          },
          "execution_count": 25,
          "metadata": {},
          "output_type": "execute_result"
        },
        {
          "data": {
            "image/png": "[encoded data removed]",
            "text/plain": [
              "<Figure size 1000x400 with 2 Axes>"
            ]
          },
          "metadata": {},
          "output_type": "display_data"
        }
      ],
      "source": [
        "# Graph for Accuracy and Loss for the improved first model (in report it is called model 2)\n",
        "\n",
        "plt.figure(figsize=(10,4))\n",
        "\n",
        "plt.subplot(1,2,1)\n",
        "plt.plot(improved_first_model_model_fit.history['accuracy'])\n",
        "plt.plot(improved_first_model_model_fit.history['val_accuracy'])\n",
        "plt.title(\"Accuracy\")\n",
        "plt.xlabel(\"Epoch\")\n",
        "plt.ylabel(\"Accuracy\")\n",
        "plt.legend(['Accuracy', 'Validation Accuracy'])\n",
        "\n",
        "plt.subplot(1,2,2)\n",
        "plt.plot(improved_first_model_model_fit.history['loss'])\n",
        "plt.plot(improved_first_model_model_fit.history['val_loss'])\n",
        "plt.title(\"Loss\")\n",
        "plt.xlabel(\"Epoch\")\n",
        "plt.ylabel(\"Loss\")\n",
        "plt.legend(['Loss', 'Validation Loss'])"
      ]
    },
    {
      "cell_type": "code",
      "execution_count": null,
      "metadata": {
        "colab": {
          "base_uri": "https://localhost:8080/"
        },
        "id": "mRdkSqxAnvyB",
        "outputId": "2adb8bf2-3525-4640-d708-602cf99a0c6f"
      },
      "outputs": [
        {
          "name": "stdout",
          "output_type": "stream",
          "text": [
            "147/147 [==============================] - 17s 114ms/step - loss: 0.4874 - accuracy: 0.7627\n"
          ]
        },
        {
          "data": {
            "text/plain": [
              "[0.4874405264854431, 0.7627082467079163]"
            ]
          },
          "execution_count": 26,
          "metadata": {},
          "output_type": "execute_result"
        }
      ],
      "source": [
        "# TESTING with the images reserved. Evaluate improved first model. Accuracy 0,7627\n",
        "improved_first_model.evaluate(test_set)"
      ]
    },
    {
      "cell_type": "code",
      "execution_count": null,
      "metadata": {
        "id": "PVr6qMFsnv6n"
      },
      "outputs": [],
      "source": [
        " # Saving the weights of the model to run it later if needed. \n",
        "improved_first_model.save_weights('second_model_ml.h5')"
      ]
    },
    {
      "cell_type": "markdown",
      "metadata": {
        "id": "siJeiiMTJlfW"
      },
      "source": [
        "The FIRST MODEL was overfitting. Once I see that I have improved the overfitting, in first_mode_improved. Now, I need to improve the accuracy. \n",
        "\n",
        "---\n",
        "\n"
      ]
    },
    {
      "cell_type": "code",
      "execution_count": null,
      "metadata": {
        "id": "xXB6TOGIGvIg"
      },
      "outputs": [],
      "source": [
        "# I TRY TO IMPROVE ACCURACY. To improve accuracy INCREASE NUMBER OF FILTERS, ADD LAYERS OR BOTH.  Here i go from 16 to 32 FILTERS and ADD a layer. \n",
        "\n",
        "# SECOND MODEL. First Layer\n",
        "second_model = Sequential()\n",
        "second_model.add(Conv2D(filters= 32, kernel_size = (3,3), input_shape = (128, 128,3))) #More filters catch more features. 16 TO 32\n",
        "second_model.add(Activation(\"relu\"))\n",
        "second_model.add(MaxPooling2D(pool_size = (2,2))) # This is to reduce the amount of trainable parameters\n",
        "second_model.add(Dropout(0.3)) # This also helps with the overfitting problem"
      ]
    },
    {
      "cell_type": "code",
      "execution_count": null,
      "metadata": {
        "id": "VFWVEzBwGvLm"
      },
      "outputs": [],
      "source": [
        "# SECOND MODEL. I add a second layer.\n",
        "second_model.add(Conv2D(filters= 32, kernel_size = (3,3)))\n",
        "second_model.add(Activation(\"relu\"))\n",
        "second_model.add(MaxPooling2D(pool_size = (2,2)))\n",
        "second_model.add(Dropout(0.3))"
      ]
    },
    {
      "cell_type": "code",
      "execution_count": null,
      "metadata": {
        "id": "cHUH1InWGvOu"
      },
      "outputs": [],
      "source": [
        "# SECOND MODEL. Fully connected layer. I ESTABLISH A HIGHER DROPOUT FOR A DENSE LAYER LIKE THIS ONE. \n",
        "second_model.add(Flatten())\n",
        "second_model.add(Dense(64))\n",
        "second_model.add(Activation(\"relu\"))\n",
        "second_model.add(Dropout(0.6))"
      ]
    },
    {
      "cell_type": "code",
      "execution_count": null,
      "metadata": {
        "id": "fvPEHSuWGvRj"
      },
      "outputs": [],
      "source": [
        "# SECOND MODEL. OUTPUT LAYER. \n",
        "second_model.add(Dense(1))\n",
        "second_model.add(Activation('sigmoid'))"
      ]
    },
    {
      "cell_type": "code",
      "execution_count": null,
      "metadata": {
        "id": "WblFGZKFGwhY"
      },
      "outputs": [],
      "source": [
        "# SECOND MODEL. COMPILATION.\n",
        "second_model.compile(optimizer='adam',loss='binary_crossentropy', metrics = ['accuracy'])"
      ]
    },
    {
      "cell_type": "code",
      "execution_count": null,
      "metadata": {
        "colab": {
          "base_uri": "https://localhost:8080/"
        },
        "id": "XunFzEDfGwkG",
        "outputId": "e7a42399-50b6-4f49-c939-01846e11606b"
      },
      "outputs": [
        {
          "name": "stdout",
          "output_type": "stream",
          "text": [
            "Model: \"sequential_1\"\n",
            "_________________________________________________________________\n",
            " Layer (type)                Output Shape              Param #   \n",
            "=================================================================\n",
            " conv2d_1 (Conv2D)           (None, 126, 126, 32)      896       \n",
            "                                                                 \n",
            " activation_3 (Activation)   (None, 126, 126, 32)      0         \n",
            "                                                                 \n",
            " max_pooling2d_1 (MaxPooling  (None, 63, 63, 32)       0         \n",
            " 2D)                                                             \n",
            "                                                                 \n",
            " dropout_2 (Dropout)         (None, 63, 63, 32)        0         \n",
            "                                                                 \n",
            " conv2d_2 (Conv2D)           (None, 61, 61, 32)        9248      \n",
            "                                                                 \n",
            " activation_4 (Activation)   (None, 61, 61, 32)        0         \n",
            "                                                                 \n",
            " max_pooling2d_2 (MaxPooling  (None, 30, 30, 32)       0         \n",
            " 2D)                                                             \n",
            "                                                                 \n",
            " dropout_3 (Dropout)         (None, 30, 30, 32)        0         \n",
            "                                                                 \n",
            " flatten_1 (Flatten)         (None, 28800)             0         \n",
            "                                                                 \n",
            " dense_2 (Dense)             (None, 64)                1843264   \n",
            "                                                                 \n",
            " activation_5 (Activation)   (None, 64)                0         \n",
            "                                                                 \n",
            " dropout_4 (Dropout)         (None, 64)                0         \n",
            "                                                                 \n",
            " dense_3 (Dense)             (None, 1)                 65        \n",
            "                                                                 \n",
            " activation_6 (Activation)   (None, 1)                 0         \n",
            "                                                                 \n",
            "=================================================================\n",
            "Total params: 1,853,473\n",
            "Trainable params: 1,853,473\n",
            "Non-trainable params: 0\n",
            "_________________________________________________________________\n"
          ]
        }
      ],
      "source": [
        "# SECOND MODEL SUMMARY. Number of trainable parameters has been reduced drastically. Adding a layer makes hyperparameters to drop. \n",
        "second_model.summary()"
      ]
    },
    {
      "cell_type": "code",
      "execution_count": null,
      "metadata": {
        "colab": {
          "base_uri": "https://localhost:8080/"
        },
        "id": "15WYPaWBGwnE",
        "outputId": "b3ba532a-3477-43a7-ad39-28dfee23664b"
      },
      "outputs": [
        {
          "name": "stdout",
          "output_type": "stream",
          "text": [
            "Epoch 1/55\n",
            "469/469 [==============================] - 127s 267ms/step - loss: 0.6918 - accuracy: 0.5392 - val_loss: 0.6524 - val_accuracy: 0.6198\n",
            "Epoch 2/55\n",
            "469/469 [==============================] - 123s 263ms/step - loss: 0.6375 - accuracy: 0.6390 - val_loss: 0.6274 - val_accuracy: 0.6796\n",
            "Epoch 3/55\n",
            "469/469 [==============================] - 139s 297ms/step - loss: 0.5880 - accuracy: 0.6936 - val_loss: 0.5475 - val_accuracy: 0.7303\n",
            "Epoch 4/55\n",
            "469/469 [==============================] - 123s 262ms/step - loss: 0.5607 - accuracy: 0.7155 - val_loss: 0.5293 - val_accuracy: 0.7407\n",
            "Epoch 5/55\n",
            "469/469 [==============================] - 129s 274ms/step - loss: 0.5404 - accuracy: 0.7279 - val_loss: 0.5300 - val_accuracy: 0.7447\n",
            "Epoch 6/55\n",
            "469/469 [==============================] - 140s 300ms/step - loss: 0.5303 - accuracy: 0.7393 - val_loss: 0.5040 - val_accuracy: 0.7557\n",
            "Epoch 7/55\n",
            "469/469 [==============================] - 124s 264ms/step - loss: 0.5154 - accuracy: 0.7529 - val_loss: 0.5055 - val_accuracy: 0.7589\n",
            "Epoch 8/55\n",
            "469/469 [==============================] - 123s 263ms/step - loss: 0.5127 - accuracy: 0.7488 - val_loss: 0.5060 - val_accuracy: 0.7618\n",
            "Epoch 9/55\n",
            "469/469 [==============================] - 124s 264ms/step - loss: 0.5043 - accuracy: 0.7563 - val_loss: 0.4904 - val_accuracy: 0.7666\n",
            "Epoch 10/55\n",
            "469/469 [==============================] - 129s 275ms/step - loss: 0.4931 - accuracy: 0.7626 - val_loss: 0.4872 - val_accuracy: 0.7661\n",
            "Epoch 11/55\n",
            "469/469 [==============================] - 125s 266ms/step - loss: 0.4909 - accuracy: 0.7675 - val_loss: 0.4832 - val_accuracy: 0.7677\n",
            "Epoch 12/55\n",
            "469/469 [==============================] - 124s 266ms/step - loss: 0.4825 - accuracy: 0.7688 - val_loss: 0.4653 - val_accuracy: 0.7800\n",
            "Epoch 13/55\n",
            "469/469 [==============================] - 124s 264ms/step - loss: 0.4697 - accuracy: 0.7808 - val_loss: 0.4565 - val_accuracy: 0.7858\n",
            "Epoch 14/55\n",
            "469/469 [==============================] - 123s 261ms/step - loss: 0.4736 - accuracy: 0.7763 - val_loss: 0.4539 - val_accuracy: 0.7883\n",
            "Epoch 15/55\n",
            "469/469 [==============================] - 124s 264ms/step - loss: 0.4685 - accuracy: 0.7803 - val_loss: 0.4716 - val_accuracy: 0.7834\n",
            "Epoch 16/55\n",
            "469/469 [==============================] - 123s 263ms/step - loss: 0.4631 - accuracy: 0.7860 - val_loss: 0.4529 - val_accuracy: 0.7917\n",
            "Epoch 17/55\n",
            "469/469 [==============================] - 124s 265ms/step - loss: 0.4596 - accuracy: 0.7850 - val_loss: 0.4568 - val_accuracy: 0.7877\n",
            "Epoch 18/55\n",
            "469/469 [==============================] - 126s 268ms/step - loss: 0.4563 - accuracy: 0.7892 - val_loss: 0.4279 - val_accuracy: 0.7992\n",
            "Epoch 19/55\n",
            "469/469 [==============================] - 124s 265ms/step - loss: 0.4437 - accuracy: 0.7924 - val_loss: 0.4275 - val_accuracy: 0.8021\n",
            "Epoch 20/55\n",
            "469/469 [==============================] - 124s 265ms/step - loss: 0.4441 - accuracy: 0.7960 - val_loss: 0.4314 - val_accuracy: 0.8104\n",
            "Epoch 21/55\n",
            "469/469 [==============================] - 123s 262ms/step - loss: 0.4457 - accuracy: 0.7924 - val_loss: 0.4296 - val_accuracy: 0.8032\n",
            "Epoch 22/55\n",
            "469/469 [==============================] - 140s 298ms/step - loss: 0.4375 - accuracy: 0.7978 - val_loss: 0.4393 - val_accuracy: 0.8035\n",
            "Epoch 23/55\n",
            "469/469 [==============================] - 122s 261ms/step - loss: 0.4396 - accuracy: 0.7976 - val_loss: 0.4204 - val_accuracy: 0.8099\n",
            "Epoch 24/55\n",
            "469/469 [==============================] - 122s 261ms/step - loss: 0.4354 - accuracy: 0.8015 - val_loss: 0.4334 - val_accuracy: 0.7965\n",
            "Epoch 25/55\n",
            "469/469 [==============================] - 140s 298ms/step - loss: 0.4350 - accuracy: 0.8029 - val_loss: 0.4473 - val_accuracy: 0.7944\n",
            "Epoch 26/55\n",
            "469/469 [==============================] - 122s 261ms/step - loss: 0.4367 - accuracy: 0.8026 - val_loss: 0.4859 - val_accuracy: 0.7696\n",
            "Epoch 27/55\n",
            "469/469 [==============================] - 122s 261ms/step - loss: 0.4256 - accuracy: 0.8037 - val_loss: 0.4213 - val_accuracy: 0.8080\n",
            "Epoch 28/55\n",
            "469/469 [==============================] - 121s 258ms/step - loss: 0.4194 - accuracy: 0.8089 - val_loss: 0.4392 - val_accuracy: 0.8088\n",
            "Epoch 29/55\n",
            "469/469 [==============================] - 122s 259ms/step - loss: 0.4197 - accuracy: 0.8084 - val_loss: 0.4156 - val_accuracy: 0.8203\n",
            "Epoch 30/55\n",
            "469/469 [==============================] - 122s 260ms/step - loss: 0.4142 - accuracy: 0.8108 - val_loss: 0.4151 - val_accuracy: 0.8139\n",
            "Epoch 31/55\n",
            "469/469 [==============================] - 125s 267ms/step - loss: 0.4178 - accuracy: 0.8104 - val_loss: 0.4359 - val_accuracy: 0.8069\n",
            "Epoch 32/55\n",
            "469/469 [==============================] - 125s 266ms/step - loss: 0.4122 - accuracy: 0.8188 - val_loss: 0.4219 - val_accuracy: 0.8053\n",
            "Epoch 33/55\n",
            "469/469 [==============================] - 125s 267ms/step - loss: 0.4119 - accuracy: 0.8078 - val_loss: 0.4093 - val_accuracy: 0.8168\n",
            "Epoch 34/55\n",
            "469/469 [==============================] - 125s 267ms/step - loss: 0.4120 - accuracy: 0.8162 - val_loss: 0.4189 - val_accuracy: 0.8083\n",
            "Epoch 35/55\n",
            "469/469 [==============================] - 122s 260ms/step - loss: 0.4104 - accuracy: 0.8171 - val_loss: 0.4130 - val_accuracy: 0.8131\n",
            "Epoch 36/55\n",
            "469/469 [==============================] - 138s 295ms/step - loss: 0.4075 - accuracy: 0.8205 - val_loss: 0.4109 - val_accuracy: 0.8206\n",
            "Epoch 37/55\n",
            "469/469 [==============================] - 120s 256ms/step - loss: 0.4073 - accuracy: 0.8178 - val_loss: 0.4244 - val_accuracy: 0.8035\n",
            "Epoch 38/55\n",
            "469/469 [==============================] - 138s 294ms/step - loss: 0.4092 - accuracy: 0.8156 - val_loss: 0.4295 - val_accuracy: 0.8019\n",
            "Epoch 39/55\n",
            "469/469 [==============================] - 120s 256ms/step - loss: 0.3999 - accuracy: 0.8207 - val_loss: 0.4005 - val_accuracy: 0.8240\n",
            "Epoch 40/55\n",
            "469/469 [==============================] - 138s 293ms/step - loss: 0.4013 - accuracy: 0.8216 - val_loss: 0.4002 - val_accuracy: 0.8238\n",
            "Epoch 41/55\n",
            "469/469 [==============================] - 120s 255ms/step - loss: 0.4027 - accuracy: 0.8233 - val_loss: 0.4089 - val_accuracy: 0.8168\n",
            "Epoch 42/55\n",
            "469/469 [==============================] - 120s 256ms/step - loss: 0.3984 - accuracy: 0.8219 - val_loss: 0.4278 - val_accuracy: 0.8104\n",
            "Epoch 43/55\n",
            "469/469 [==============================] - 119s 253ms/step - loss: 0.3913 - accuracy: 0.8255 - val_loss: 0.4119 - val_accuracy: 0.8184\n",
            "Epoch 44/55\n",
            "469/469 [==============================] - 120s 256ms/step - loss: 0.3981 - accuracy: 0.8242 - val_loss: 0.4031 - val_accuracy: 0.8171\n",
            "Epoch 45/55\n",
            "469/469 [==============================] - 119s 255ms/step - loss: 0.3990 - accuracy: 0.8256 - val_loss: 0.4132 - val_accuracy: 0.8085\n",
            "Epoch 46/55\n",
            "469/469 [==============================] - 118s 253ms/step - loss: 0.3914 - accuracy: 0.8277 - val_loss: 0.4166 - val_accuracy: 0.8179\n",
            "Epoch 47/55\n",
            "469/469 [==============================] - 120s 255ms/step - loss: 0.3949 - accuracy: 0.8289 - val_loss: 0.4151 - val_accuracy: 0.8099\n",
            "Epoch 48/55\n",
            "469/469 [==============================] - 120s 256ms/step - loss: 0.3921 - accuracy: 0.8267 - val_loss: 0.4009 - val_accuracy: 0.8192\n",
            "Epoch 49/55\n",
            "469/469 [==============================] - 119s 254ms/step - loss: 0.3912 - accuracy: 0.8293 - val_loss: 0.4067 - val_accuracy: 0.8227\n",
            "Epoch 50/55\n",
            "469/469 [==============================] - 120s 256ms/step - loss: 0.3816 - accuracy: 0.8325 - val_loss: 0.3989 - val_accuracy: 0.8235\n",
            "Epoch 51/55\n",
            "469/469 [==============================] - 120s 255ms/step - loss: 0.3847 - accuracy: 0.8329 - val_loss: 0.4056 - val_accuracy: 0.8240\n",
            "Epoch 52/55\n",
            "469/469 [==============================] - 137s 293ms/step - loss: 0.3826 - accuracy: 0.8327 - val_loss: 0.4120 - val_accuracy: 0.8206\n",
            "Epoch 53/55\n",
            "469/469 [==============================] - 120s 256ms/step - loss: 0.3880 - accuracy: 0.8311 - val_loss: 0.4275 - val_accuracy: 0.8027\n",
            "Epoch 54/55\n",
            "469/469 [==============================] - 138s 294ms/step - loss: 0.3844 - accuracy: 0.8299 - val_loss: 0.4036 - val_accuracy: 0.8224\n",
            "Epoch 55/55\n",
            "469/469 [==============================] - 121s 257ms/step - loss: 0.3816 - accuracy: 0.8327 - val_loss: 0.3971 - val_accuracy: 0.8198\n"
          ]
        }
      ],
      "source": [
        "#Validation\n",
        "second_model_fit = second_model.fit(train_ds, epochs=55, validation_data = valid_ds) # I have improved performance and I don't seem to have big problems with overfitting."
      ]
    },
    {
      "cell_type": "code",
      "execution_count": null,
      "metadata": {
        "colab": {
          "base_uri": "https://localhost:8080/",
          "height": 427
        },
        "id": "lqyDWFbk8k73",
        "outputId": "07fcb850-cfb9-4cf9-f258-a38b6ba87b67"
      },
      "outputs": [
        {
          "data": {
            "text/plain": [
              "<matplotlib.legend.Legend at 0x7f2731afba60>"
            ]
          },
          "execution_count": 35,
          "metadata": {},
          "output_type": "execute_result"
        },
        {
          "data": {
            "image/png": "[encoded data removed]",
            "text/plain": [
              "<Figure size 1000x400 with 2 Axes>"
            ]
          },
          "metadata": {},
          "output_type": "display_data"
        }
      ],
      "source": [
        "# Graph for Accuracy and Loss for the second model (on report called model 3)\n",
        "\n",
        "plt.figure(figsize=(10,4))\n",
        "\n",
        "plt.subplot(1,2,1)\n",
        "plt.plot(second_model_fit.history['accuracy'])\n",
        "plt.plot(second_model_fit.history['val_accuracy'])\n",
        "plt.title(\"Accuracy\")\n",
        "plt.xlabel(\"Epoch\")\n",
        "plt.ylabel(\"Accuracy\")\n",
        "plt.legend(['Accuracy', 'Validation Accuracy'])\n",
        "\n",
        "plt.subplot(1,2,2)\n",
        "plt.plot(second_model_fit.history['loss'])\n",
        "plt.plot(second_model_fit.history['val_loss'])\n",
        "plt.title(\"Loss\")\n",
        "plt.xlabel(\"Epoch\")\n",
        "plt.ylabel(\"Loss\")\n",
        "plt.legend(['Loss', 'Validation Loss'])"
      ]
    },
    {
      "cell_type": "code",
      "execution_count": null,
      "metadata": {
        "id": "6YFcOGq3nYnT"
      },
      "outputs": [],
      "source": [
        " # Saving the weights of the model to run it later if needed. \n",
        "second_model.save_weights('second_model_ml.h5')"
      ]
    },
    {
      "cell_type": "code",
      "execution_count": null,
      "metadata": {
        "colab": {
          "base_uri": "https://localhost:8080/"
        },
        "id": "4MLuB_abmbyf",
        "outputId": "a50a31bf-6dc5-4e17-8679-d6adc96848e8"
      },
      "outputs": [
        {
          "name": "stdout",
          "output_type": "stream",
          "text": [
            "147/147 [==============================] - 15s 100ms/step - loss: 0.3774 - accuracy: 0.8398\n"
          ]
        },
        {
          "data": {
            "text/plain": [
              "[0.37742745876312256, 0.8398120403289795]"
            ]
          },
          "execution_count": 37,
          "metadata": {},
          "output_type": "execute_result"
        }
      ],
      "source": [
        "# Evaluate second model Accuracy 0.8398\n",
        "second_model.evaluate(test_set)"
      ]
    },
    {
      "cell_type": "markdown",
      "metadata": {
        "id": "rjOzAcRonuQT"
      },
      "source": [
        "\n",
        "\n",
        "```\n",
        "THIRD MODEL. Scope to increase further accuracy.\n",
        "```\n",
        "\n"
      ]
    },
    {
      "cell_type": "code",
      "execution_count": 18,
      "metadata": {
        "id": "pKurDDW1GwtJ"
      },
      "outputs": [],
      "source": [
        "# Third model. I see that increasing filters and layers has helped me to improve accuracy. I increase filters once again from 32 to 64. ALSO ADD A LAYER.\n",
        "# Same strategy as before. Add layer and filter. It works. Why fix it if it's not broken?\n",
        "# TERZO MODELO. FIRST LAYER\n",
        "third_model = Sequential()\n",
        "third_model.add(Conv2D(filters= 64, kernel_size = (3,3), input_shape = (128, 128,3))) # I change from 32 to 64\n",
        "third_model.add(Activation(\"relu\"))\n",
        "third_model.add(MaxPooling2D(pool_size = (2,2)))\n",
        "third_model.add(Dropout(0.3))"
      ]
    },
    {
      "cell_type": "code",
      "execution_count": 19,
      "metadata": {
        "id": "7ahsvoDANNS9"
      },
      "outputs": [],
      "source": [
        "# THIRD MODEL. SECOND LAYYER.\n",
        "third_model.add(Conv2D(filters= 64, kernel_size = (3,3)))\n",
        "third_model.add(Activation(\"relu\"))\n",
        "third_model.add(MaxPooling2D(pool_size = (2,2)))\n",
        "third_model.add(Dropout(0.3))"
      ]
    },
    {
      "cell_type": "code",
      "execution_count": 20,
      "metadata": {
        "id": "cm7Ut9ouNNWC"
      },
      "outputs": [],
      "source": [
        "# THIRD MODEL. THIRD LAYER.\n",
        "third_model.add(Conv2D(filters= 64, kernel_size = (3,3)))\n",
        "third_model.add(Activation(\"relu\"))\n",
        "third_model.add(MaxPooling2D(pool_size = (2,2)))\n",
        "third_model.add(Dropout(0.3))"
      ]
    },
    {
      "cell_type": "code",
      "execution_count": 21,
      "metadata": {
        "id": "UXnFTbDvNNY1"
      },
      "outputs": [],
      "source": [
        "# THIRD MODEL. Fully connected layer.\n",
        "third_model.add(Flatten())\n",
        "third_model.add(Dense(64))\n",
        "third_model.add(Activation(\"relu\"))\n",
        "third_model.add(Dropout(0.6))"
      ]
    },
    {
      "cell_type": "code",
      "execution_count": 22,
      "metadata": {
        "id": "19tQ0cSVNNbq"
      },
      "outputs": [],
      "source": [
        "# THIRD MODEL. Output layer of Original Model\n",
        "third_model.add(Dense(1))\n",
        "third_model.add(Activation('sigmoid'))"
      ]
    },
    {
      "cell_type": "code",
      "execution_count": 23,
      "metadata": {
        "id": "lc0HvNpyNNe8"
      },
      "outputs": [],
      "source": [
        "# THIRD MODEL COMPILE\n",
        "third_model.compile(optimizer='adam',loss='binary_crossentropy', metrics = ['accuracy'])"
      ]
    },
    {
      "cell_type": "code",
      "execution_count": 24,
      "metadata": {
        "colab": {
          "base_uri": "https://localhost:8080/"
        },
        "id": "wyTwdhCvGwwR",
        "outputId": "8b9c1aa0-a4ee-4387-ccc1-54821c524934"
      },
      "outputs": [
        {
          "name": "stdout",
          "output_type": "stream",
          "text": [
            "Model: \"sequential\"\n",
            "_________________________________________________________________\n",
            " Layer (type)                Output Shape              Param #   \n",
            "=================================================================\n",
            " conv2d (Conv2D)             (None, 126, 126, 64)      1792      \n",
            "                                                                 \n",
            " activation (Activation)     (None, 126, 126, 64)      0         \n",
            "                                                                 \n",
            " max_pooling2d (MaxPooling2D  (None, 63, 63, 64)       0         \n",
            " )                                                               \n",
            "                                                                 \n",
            " dropout (Dropout)           (None, 63, 63, 64)        0         \n",
            "                                                                 \n",
            " conv2d_1 (Conv2D)           (None, 61, 61, 64)        36928     \n",
            "                                                                 \n",
            " activation_1 (Activation)   (None, 61, 61, 64)        0         \n",
            "                                                                 \n",
            " max_pooling2d_1 (MaxPooling  (None, 30, 30, 64)       0         \n",
            " 2D)                                                             \n",
            "                                                                 \n",
            " dropout_1 (Dropout)         (None, 30, 30, 64)        0         \n",
            "                                                                 \n",
            " conv2d_2 (Conv2D)           (None, 28, 28, 64)        36928     \n",
            "                                                                 \n",
            " activation_2 (Activation)   (None, 28, 28, 64)        0         \n",
            "                                                                 \n",
            " max_pooling2d_2 (MaxPooling  (None, 14, 14, 64)       0         \n",
            " 2D)                                                             \n",
            "                                                                 \n",
            " dropout_2 (Dropout)         (None, 14, 14, 64)        0         \n",
            "                                                                 \n",
            " flatten (Flatten)           (None, 12544)             0         \n",
            "                                                                 \n",
            " dense (Dense)               (None, 64)                802880    \n",
            "                                                                 \n",
            " activation_3 (Activation)   (None, 64)                0         \n",
            "                                                                 \n",
            " dropout_3 (Dropout)         (None, 64)                0         \n",
            "                                                                 \n",
            " dense_1 (Dense)             (None, 1)                 65        \n",
            "                                                                 \n",
            " activation_4 (Activation)   (None, 1)                 0         \n",
            "                                                                 \n",
            "=================================================================\n",
            "Total params: 878,593\n",
            "Trainable params: 878,593\n",
            "Non-trainable params: 0\n",
            "_________________________________________________________________\n"
          ]
        }
      ],
      "source": [
        "# THIRD MODEL SUMMARY\n",
        "third_model.summary()"
      ]
    },
    {
      "cell_type": "code",
      "execution_count": 25,
      "metadata": {
        "colab": {
          "base_uri": "https://localhost:8080/"
        },
        "id": "c01CXMUaGwzK",
        "outputId": "8faf2e4e-e45b-4814-e282-b060eefc331b"
      },
      "outputs": [
        {
          "name": "stdout",
          "output_type": "stream",
          "text": [
            "Epoch 1/55\n",
            "469/469 [==============================] - 152s 297ms/step - loss: 0.6930 - accuracy: 0.5203 - val_loss: 0.6821 - val_accuracy: 0.5220\n",
            "Epoch 2/55\n",
            "469/469 [==============================] - 135s 289ms/step - loss: 0.6677 - accuracy: 0.5894 - val_loss: 0.6226 - val_accuracy: 0.6537\n",
            "Epoch 3/55\n",
            "469/469 [==============================] - 139s 295ms/step - loss: 0.6209 - accuracy: 0.6566 - val_loss: 0.5857 - val_accuracy: 0.7012\n",
            "Epoch 4/55\n",
            "469/469 [==============================] - 137s 292ms/step - loss: 0.5953 - accuracy: 0.6867 - val_loss: 0.5612 - val_accuracy: 0.7047\n",
            "Epoch 5/55\n",
            "469/469 [==============================] - 139s 296ms/step - loss: 0.5731 - accuracy: 0.7052 - val_loss: 0.5207 - val_accuracy: 0.7381\n",
            "Epoch 6/55\n",
            "469/469 [==============================] - 152s 324ms/step - loss: 0.5596 - accuracy: 0.7135 - val_loss: 0.5208 - val_accuracy: 0.7509\n",
            "Epoch 7/55\n",
            "469/469 [==============================] - 135s 288ms/step - loss: 0.5331 - accuracy: 0.7356 - val_loss: 0.4943 - val_accuracy: 0.7613\n",
            "Epoch 8/55\n",
            "469/469 [==============================] - 135s 288ms/step - loss: 0.5170 - accuracy: 0.7504 - val_loss: 0.4810 - val_accuracy: 0.7712\n",
            "Epoch 9/55\n",
            "469/469 [==============================] - 135s 289ms/step - loss: 0.5117 - accuracy: 0.7507 - val_loss: 0.4937 - val_accuracy: 0.7591\n",
            "Epoch 10/55\n",
            "469/469 [==============================] - 135s 288ms/step - loss: 0.4927 - accuracy: 0.7682 - val_loss: 0.4695 - val_accuracy: 0.7797\n",
            "Epoch 11/55\n",
            "469/469 [==============================] - 136s 290ms/step - loss: 0.4766 - accuracy: 0.7761 - val_loss: 0.4307 - val_accuracy: 0.8011\n",
            "Epoch 12/55\n",
            "469/469 [==============================] - 135s 288ms/step - loss: 0.4728 - accuracy: 0.7818 - val_loss: 0.4445 - val_accuracy: 0.7917\n",
            "Epoch 13/55\n",
            "469/469 [==============================] - 136s 290ms/step - loss: 0.4588 - accuracy: 0.7891 - val_loss: 0.4512 - val_accuracy: 0.7829\n",
            "Epoch 14/55\n",
            "469/469 [==============================] - 138s 295ms/step - loss: 0.4452 - accuracy: 0.7978 - val_loss: 0.4468 - val_accuracy: 0.7931\n",
            "Epoch 15/55\n",
            "469/469 [==============================] - 153s 326ms/step - loss: 0.4512 - accuracy: 0.7950 - val_loss: 0.4512 - val_accuracy: 0.7877\n",
            "Epoch 16/55\n",
            "469/469 [==============================] - 139s 296ms/step - loss: 0.4367 - accuracy: 0.8011 - val_loss: 0.4362 - val_accuracy: 0.8056\n",
            "Epoch 17/55\n",
            "469/469 [==============================] - 135s 289ms/step - loss: 0.4279 - accuracy: 0.8077 - val_loss: 0.4125 - val_accuracy: 0.8117\n",
            "Epoch 18/55\n",
            "469/469 [==============================] - 138s 295ms/step - loss: 0.4296 - accuracy: 0.8076 - val_loss: 0.4682 - val_accuracy: 0.7714\n",
            "Epoch 19/55\n",
            "469/469 [==============================] - 136s 290ms/step - loss: 0.4251 - accuracy: 0.8103 - val_loss: 0.4162 - val_accuracy: 0.8101\n",
            "Epoch 20/55\n",
            "469/469 [==============================] - 138s 293ms/step - loss: 0.4196 - accuracy: 0.8132 - val_loss: 0.3835 - val_accuracy: 0.8307\n",
            "Epoch 21/55\n",
            "469/469 [==============================] - 151s 321ms/step - loss: 0.4168 - accuracy: 0.8173 - val_loss: 0.4434 - val_accuracy: 0.7909\n",
            "Epoch 22/55\n",
            "469/469 [==============================] - 150s 321ms/step - loss: 0.4069 - accuracy: 0.8171 - val_loss: 0.3971 - val_accuracy: 0.8182\n",
            "Epoch 23/55\n",
            "469/469 [==============================] - 152s 325ms/step - loss: 0.4025 - accuracy: 0.8223 - val_loss: 0.4070 - val_accuracy: 0.8168\n",
            "Epoch 24/55\n",
            "469/469 [==============================] - 150s 321ms/step - loss: 0.4014 - accuracy: 0.8254 - val_loss: 0.4400 - val_accuracy: 0.7960\n",
            "Epoch 25/55\n",
            "469/469 [==============================] - 137s 293ms/step - loss: 0.4006 - accuracy: 0.8223 - val_loss: 0.3717 - val_accuracy: 0.8331\n",
            "Epoch 26/55\n",
            "469/469 [==============================] - 154s 328ms/step - loss: 0.3954 - accuracy: 0.8254 - val_loss: 0.3816 - val_accuracy: 0.8307\n",
            "Epoch 27/55\n",
            "469/469 [==============================] - 137s 292ms/step - loss: 0.3872 - accuracy: 0.8311 - val_loss: 0.3857 - val_accuracy: 0.8176\n",
            "Epoch 28/55\n",
            "469/469 [==============================] - 154s 328ms/step - loss: 0.3846 - accuracy: 0.8357 - val_loss: 0.3620 - val_accuracy: 0.8368\n",
            "Epoch 29/55\n",
            "469/469 [==============================] - 151s 322ms/step - loss: 0.3758 - accuracy: 0.8391 - val_loss: 0.3552 - val_accuracy: 0.8395\n",
            "Epoch 30/55\n",
            "469/469 [==============================] - 138s 294ms/step - loss: 0.3776 - accuracy: 0.8400 - val_loss: 0.3426 - val_accuracy: 0.8457\n",
            "Epoch 31/55\n",
            "469/469 [==============================] - 137s 293ms/step - loss: 0.3678 - accuracy: 0.8412 - val_loss: 0.3707 - val_accuracy: 0.8342\n",
            "Epoch 32/55\n",
            "469/469 [==============================] - 152s 324ms/step - loss: 0.3730 - accuracy: 0.8395 - val_loss: 0.3864 - val_accuracy: 0.8267\n",
            "Epoch 33/55\n",
            "469/469 [==============================] - 155s 331ms/step - loss: 0.3558 - accuracy: 0.8454 - val_loss: 0.3783 - val_accuracy: 0.8312\n",
            "Epoch 34/55\n",
            "469/469 [==============================] - 153s 327ms/step - loss: 0.3619 - accuracy: 0.8446 - val_loss: 0.3302 - val_accuracy: 0.8622\n",
            "Epoch 35/55\n",
            "469/469 [==============================] - 150s 321ms/step - loss: 0.3549 - accuracy: 0.8476 - val_loss: 0.3761 - val_accuracy: 0.8296\n",
            "Epoch 36/55\n",
            "469/469 [==============================] - 141s 300ms/step - loss: 0.3532 - accuracy: 0.8498 - val_loss: 0.3274 - val_accuracy: 0.8569\n",
            "Epoch 37/55\n",
            "469/469 [==============================] - 138s 295ms/step - loss: 0.3471 - accuracy: 0.8523 - val_loss: 0.3325 - val_accuracy: 0.8601\n",
            "Epoch 38/55\n",
            "469/469 [==============================] - 137s 293ms/step - loss: 0.3505 - accuracy: 0.8482 - val_loss: 0.3441 - val_accuracy: 0.8467\n",
            "Epoch 39/55\n",
            "469/469 [==============================] - 154s 328ms/step - loss: 0.3400 - accuracy: 0.8540 - val_loss: 0.3975 - val_accuracy: 0.8195\n",
            "Epoch 40/55\n",
            "469/469 [==============================] - 138s 293ms/step - loss: 0.3427 - accuracy: 0.8532 - val_loss: 0.3504 - val_accuracy: 0.8462\n",
            "Epoch 41/55\n",
            "469/469 [==============================] - 137s 293ms/step - loss: 0.3407 - accuracy: 0.8534 - val_loss: 0.3397 - val_accuracy: 0.8553\n",
            "Epoch 42/55\n",
            "469/469 [==============================] - 135s 289ms/step - loss: 0.3363 - accuracy: 0.8560 - val_loss: 0.3046 - val_accuracy: 0.8737\n",
            "Epoch 43/55\n",
            "469/469 [==============================] - 137s 292ms/step - loss: 0.3344 - accuracy: 0.8552 - val_loss: 0.3330 - val_accuracy: 0.8571\n",
            "Epoch 44/55\n",
            "469/469 [==============================] - 134s 286ms/step - loss: 0.3293 - accuracy: 0.8562 - val_loss: 0.3101 - val_accuracy: 0.8684\n",
            "Epoch 45/55\n",
            "469/469 [==============================] - 136s 291ms/step - loss: 0.3284 - accuracy: 0.8614 - val_loss: 0.3209 - val_accuracy: 0.8574\n",
            "Epoch 46/55\n",
            "469/469 [==============================] - 150s 321ms/step - loss: 0.3331 - accuracy: 0.8585 - val_loss: 0.3175 - val_accuracy: 0.8660\n",
            "Epoch 47/55\n",
            "469/469 [==============================] - 135s 289ms/step - loss: 0.3230 - accuracy: 0.8620 - val_loss: 0.3374 - val_accuracy: 0.8547\n",
            "Epoch 48/55\n",
            "469/469 [==============================] - 138s 295ms/step - loss: 0.3184 - accuracy: 0.8646 - val_loss: 0.3174 - val_accuracy: 0.8638\n",
            "Epoch 49/55\n",
            "469/469 [==============================] - 138s 293ms/step - loss: 0.3111 - accuracy: 0.8689 - val_loss: 0.2819 - val_accuracy: 0.8828\n",
            "Epoch 50/55\n",
            "469/469 [==============================] - 140s 298ms/step - loss: 0.3152 - accuracy: 0.8670 - val_loss: 0.3837 - val_accuracy: 0.8379\n",
            "Epoch 51/55\n",
            "469/469 [==============================] - 140s 299ms/step - loss: 0.3129 - accuracy: 0.8644 - val_loss: 0.3038 - val_accuracy: 0.8710\n",
            "Epoch 52/55\n",
            "469/469 [==============================] - 139s 297ms/step - loss: 0.3119 - accuracy: 0.8691 - val_loss: 0.3133 - val_accuracy: 0.8654\n",
            "Epoch 53/55\n",
            "469/469 [==============================] - 137s 293ms/step - loss: 0.3124 - accuracy: 0.8654 - val_loss: 0.2817 - val_accuracy: 0.8822\n",
            "Epoch 54/55\n",
            "469/469 [==============================] - 136s 290ms/step - loss: 0.3131 - accuracy: 0.8672 - val_loss: 0.2946 - val_accuracy: 0.8686\n",
            "Epoch 55/55\n",
            "469/469 [==============================] - 139s 296ms/step - loss: 0.3056 - accuracy: 0.8727 - val_loss: 0.3270 - val_accuracy: 0.8606\n"
          ]
        }
      ],
      "source": [
        "# THIRD MODEL FITTING.\n",
        "third_model_fit = third_model.fit(train_ds, epochs=55, validation_data = valid_ds) "
      ]
    },
    {
      "cell_type": "code",
      "execution_count": 26,
      "metadata": {
        "colab": {
          "base_uri": "https://localhost:8080/",
          "height": 427
        },
        "id": "2H_3lskQ8yJw",
        "outputId": "353ca45c-071b-4839-bb85-3dfa6270336a"
      },
      "outputs": [
        {
          "data": {
            "text/plain": [
              "<matplotlib.legend.Legend at 0x7fb70039ac80>"
            ]
          },
          "execution_count": 26,
          "metadata": {},
          "output_type": "execute_result"
        },
        {
          "data": {
            "image/png": "[encoded data removed]",
            "text/plain": [
              "<Figure size 1000x400 with 2 Axes>"
            ]
          },
          "metadata": {},
          "output_type": "display_data"
        }
      ],
      "source": [
        "1# Graph for Accuracy and Loss for the third model\n",
        "\n",
        "plt.figure(figsize=(10,4))\n",
        "\n",
        "plt.subplot(1,2,1)\n",
        "plt.plot(third_model_fit.history['accuracy'])\n",
        "plt.plot(third_model_fit.history['val_accuracy'])\n",
        "plt.title(\"Accuracy\")\n",
        "plt.xlabel(\"Epoch\")\n",
        "plt.ylabel(\"Accuracy\")\n",
        "plt.legend(['Accuracy', 'Validation Accuracy'])\n",
        "\n",
        "plt.subplot(1,2,2)\n",
        "plt.plot(third_model_fit.history['loss'])\n",
        "plt.plot(third_model_fit.history['val_loss'])\n",
        "plt.title(\"Loss\")\n",
        "plt.xlabel(\"Epoch\")\n",
        "plt.ylabel(\"Loss\")\n",
        "plt.legend(['Loss', 'Validation Loss'])"
      ]
    },
    {
      "cell_type": "code",
      "execution_count": 27,
      "metadata": {
        "id": "jUYdMRggOrG0"
      },
      "outputs": [],
      "source": [
        " # Saving the weights of the model to run it later if needed. \n",
        "third_model.save_weights('third_model_ml.h5')"
      ]
    },
    {
      "cell_type": "code",
      "execution_count": 28,
      "metadata": {
        "colab": {
          "base_uri": "https://localhost:8080/"
        },
        "id": "sPdAQj0wOrmR",
        "outputId": "0a241b05-c5c9-4f3d-a067-6dfa54e5c328"
      },
      "outputs": [
        {
          "name": "stdout",
          "output_type": "stream",
          "text": [
            "147/147 [==============================] - 17s 116ms/step - loss: 0.2870 - accuracy: 0.8840\n"
          ]
        },
        {
          "data": {
            "text/plain": [
              "[0.2870473265647888, 0.884023904800415]"
            ]
          },
          "execution_count": 28,
          "metadata": {},
          "output_type": "execute_result"
        }
      ],
      "source": [
        "# Evaluate third model.\n",
        "third_model.evaluate(test_set)"
      ]
    },
    {
      "cell_type": "markdown",
      "metadata": {
        "id": "sYBSpn8kYSvj"
      },
      "source": [
        "\n",
        "\n",
        "```\n",
        "# This is formatted as code\n",
        "```\n",
        "\n",
        "Cross Validation. \n",
        "\n",
        "I try to run many times for 55 epochs has I have been doing til now. Unluckily, GOOGLE COLAB blocks after a while because it's too much computational power. \n",
        "I decide to go for a second best option, meaning, reduce the amount of epochs at 30. It's not the best to do, naturally, but giving the scarse computational ressources I have from COLAB I have no other option. \n",
        "\n",
        "If provided with more computational power, I'd run it with 55+ epochs. \n",
        "\n",
        "It is what it is..."
      ]
    },
    {
      "cell_type": "code",
      "execution_count": null,
      "metadata": {
        "colab": {
          "base_uri": "https://localhost:8080/"
        },
        "id": "yt8ge2SQbczd",
        "outputId": "be68ffbd-bf12-47ab-b247-e6e38a1eeb02"
      },
      "outputs": [
        {
          "name": "stdout",
          "output_type": "stream",
          "text": [
            "Found 3745 validated image filenames belonging to 2 classes.\n",
            "Found 14983 validated image filenames belonging to 2 classes.\n",
            "Epoch 1/35\n",
            "469/469 [==============================] - 124s 238ms/step - loss: 0.6944 - accuracy: 0.5105 - val_loss: 0.6915 - val_accuracy: 0.5036\n",
            "Epoch 2/35\n",
            "469/469 [==============================] - 112s 238ms/step - loss: 0.6914 - accuracy: 0.5269 - val_loss: 0.6880 - val_accuracy: 0.5669\n",
            "Epoch 3/35\n",
            "469/469 [==============================] - 112s 238ms/step - loss: 0.6839 - accuracy: 0.5616 - val_loss: 0.6677 - val_accuracy: 0.6286\n",
            "Epoch 4/35\n",
            "469/469 [==============================] - 112s 238ms/step - loss: 0.6539 - accuracy: 0.6236 - val_loss: 0.6214 - val_accuracy: 0.6700\n",
            "Epoch 5/35\n",
            "469/469 [==============================] - 111s 237ms/step - loss: 0.6079 - accuracy: 0.6722 - val_loss: 0.5705 - val_accuracy: 0.7162\n",
            "Epoch 6/35\n",
            "469/469 [==============================] - 112s 238ms/step - loss: 0.5665 - accuracy: 0.7095 - val_loss: 0.5205 - val_accuracy: 0.7533\n",
            "Epoch 7/35\n",
            "469/469 [==============================] - 112s 238ms/step - loss: 0.5437 - accuracy: 0.7312 - val_loss: 0.5090 - val_accuracy: 0.7503\n",
            "Epoch 8/35\n",
            "469/469 [==============================] - 112s 238ms/step - loss: 0.5236 - accuracy: 0.7428 - val_loss: 0.4822 - val_accuracy: 0.7656\n",
            "Epoch 9/35\n",
            "469/469 [==============================] - 112s 238ms/step - loss: 0.5096 - accuracy: 0.7527 - val_loss: 0.4704 - val_accuracy: 0.7752\n",
            "Epoch 10/35\n",
            "469/469 [==============================] - 111s 237ms/step - loss: 0.4913 - accuracy: 0.7697 - val_loss: 0.4857 - val_accuracy: 0.7514\n",
            "Epoch 11/35\n",
            "469/469 [==============================] - 112s 238ms/step - loss: 0.4841 - accuracy: 0.7711 - val_loss: 0.4452 - val_accuracy: 0.7952\n",
            "Epoch 12/35\n",
            "469/469 [==============================] - 111s 238ms/step - loss: 0.4707 - accuracy: 0.7785 - val_loss: 0.4557 - val_accuracy: 0.7845\n",
            "Epoch 13/35\n",
            "469/469 [==============================] - 112s 238ms/step - loss: 0.4698 - accuracy: 0.7810 - val_loss: 0.4386 - val_accuracy: 0.7936\n",
            "Epoch 14/35\n",
            "469/469 [==============================] - 112s 238ms/step - loss: 0.4569 - accuracy: 0.7884 - val_loss: 0.4550 - val_accuracy: 0.7818\n",
            "Epoch 15/35\n",
            "469/469 [==============================] - 112s 238ms/step - loss: 0.4579 - accuracy: 0.7866 - val_loss: 0.4141 - val_accuracy: 0.8080\n",
            "Epoch 16/35\n",
            "469/469 [==============================] - 111s 238ms/step - loss: 0.4482 - accuracy: 0.7975 - val_loss: 0.4120 - val_accuracy: 0.8166\n",
            "Epoch 17/35\n",
            "469/469 [==============================] - 112s 238ms/step - loss: 0.4405 - accuracy: 0.7992 - val_loss: 0.3994 - val_accuracy: 0.8200\n",
            "Epoch 18/35\n",
            "469/469 [==============================] - 111s 238ms/step - loss: 0.4383 - accuracy: 0.8020 - val_loss: 0.3878 - val_accuracy: 0.8230\n",
            "Epoch 19/35\n",
            "469/469 [==============================] - 112s 238ms/step - loss: 0.4326 - accuracy: 0.8048 - val_loss: 0.4100 - val_accuracy: 0.8294\n",
            "Epoch 20/35\n",
            "469/469 [==============================] - 111s 237ms/step - loss: 0.4221 - accuracy: 0.8090 - val_loss: 0.4855 - val_accuracy: 0.7626\n",
            "Epoch 21/35\n",
            "469/469 [==============================] - 111s 238ms/step - loss: 0.4191 - accuracy: 0.8109 - val_loss: 0.4134 - val_accuracy: 0.8182\n",
            "Epoch 22/35\n",
            "469/469 [==============================] - 111s 237ms/step - loss: 0.4145 - accuracy: 0.8107 - val_loss: 0.3857 - val_accuracy: 0.8291\n",
            "Epoch 23/35\n",
            "469/469 [==============================] - 111s 238ms/step - loss: 0.4117 - accuracy: 0.8158 - val_loss: 0.3987 - val_accuracy: 0.8219\n",
            "Epoch 24/35\n",
            "469/469 [==============================] - 111s 238ms/step - loss: 0.4043 - accuracy: 0.8213 - val_loss: 0.3691 - val_accuracy: 0.8430\n",
            "Epoch 25/35\n",
            "469/469 [==============================] - 111s 237ms/step - loss: 0.3943 - accuracy: 0.8236 - val_loss: 0.3624 - val_accuracy: 0.8419\n",
            "Epoch 26/35\n",
            "469/469 [==============================] - 111s 237ms/step - loss: 0.3937 - accuracy: 0.8233 - val_loss: 0.3649 - val_accuracy: 0.8417\n",
            "Epoch 27/35\n",
            "469/469 [==============================] - 111s 237ms/step - loss: 0.3911 - accuracy: 0.8283 - val_loss: 0.3640 - val_accuracy: 0.8430\n",
            "Epoch 28/35\n",
            "469/469 [==============================] - 111s 237ms/step - loss: 0.3866 - accuracy: 0.8299 - val_loss: 0.3758 - val_accuracy: 0.8326\n",
            "Epoch 29/35\n",
            "469/469 [==============================] - 112s 238ms/step - loss: 0.3909 - accuracy: 0.8279 - val_loss: 0.4235 - val_accuracy: 0.7995\n",
            "Epoch 30/35\n",
            "469/469 [==============================] - 111s 237ms/step - loss: 0.3808 - accuracy: 0.8311 - val_loss: 0.3550 - val_accuracy: 0.8451\n",
            "Epoch 31/35\n",
            "469/469 [==============================] - 111s 237ms/step - loss: 0.3790 - accuracy: 0.8359 - val_loss: 0.3609 - val_accuracy: 0.8457\n",
            "Epoch 32/35\n",
            "469/469 [==============================] - 112s 238ms/step - loss: 0.3672 - accuracy: 0.8398 - val_loss: 0.3415 - val_accuracy: 0.8529\n",
            "Epoch 33/35\n",
            "469/469 [==============================] - 111s 238ms/step - loss: 0.3704 - accuracy: 0.8398 - val_loss: 0.3624 - val_accuracy: 0.8406\n",
            "Epoch 34/35\n",
            "469/469 [==============================] - 111s 237ms/step - loss: 0.3730 - accuracy: 0.8400 - val_loss: 0.3669 - val_accuracy: 0.8390\n",
            "Epoch 35/35\n",
            "469/469 [==============================] - 111s 237ms/step - loss: 0.3665 - accuracy: 0.8397 - val_loss: 0.3440 - val_accuracy: 0.8518\n",
            "147/147 [==============================] - 14s 92ms/step - loss: 0.3226 - accuracy: 0.8612\n",
            "Found 3746 validated image filenames belonging to 2 classes.\n",
            "Found 14982 validated image filenames belonging to 2 classes.\n",
            "Epoch 1/35\n",
            "469/469 [==============================] - 114s 238ms/step - loss: 0.6888 - accuracy: 0.5403 - val_loss: 0.6481 - val_accuracy: 0.6554\n",
            "Epoch 2/35\n",
            "469/469 [==============================] - 111s 238ms/step - loss: 0.6345 - accuracy: 0.6467 - val_loss: 0.5959 - val_accuracy: 0.6917\n",
            "Epoch 3/35\n",
            "469/469 [==============================] - 111s 237ms/step - loss: 0.5894 - accuracy: 0.6948 - val_loss: 0.5530 - val_accuracy: 0.7282\n",
            "Epoch 4/35\n",
            "469/469 [==============================] - 111s 237ms/step - loss: 0.5526 - accuracy: 0.7246 - val_loss: 0.4945 - val_accuracy: 0.7629\n",
            "Epoch 5/35\n",
            "469/469 [==============================] - 111s 238ms/step - loss: 0.5264 - accuracy: 0.7425 - val_loss: 0.4807 - val_accuracy: 0.7742\n",
            "Epoch 6/35\n",
            "469/469 [==============================] - 112s 238ms/step - loss: 0.5102 - accuracy: 0.7518 - val_loss: 0.4696 - val_accuracy: 0.7792\n",
            "Epoch 7/35\n",
            "469/469 [==============================] - 111s 238ms/step - loss: 0.4927 - accuracy: 0.7628 - val_loss: 0.4608 - val_accuracy: 0.7864\n",
            "Epoch 8/35\n",
            "469/469 [==============================] - 112s 238ms/step - loss: 0.4791 - accuracy: 0.7757 - val_loss: 0.4899 - val_accuracy: 0.7608\n",
            "Epoch 9/35\n",
            "469/469 [==============================] - 112s 238ms/step - loss: 0.4735 - accuracy: 0.7784 - val_loss: 0.4435 - val_accuracy: 0.8027\n",
            "Epoch 10/35\n",
            "469/469 [==============================] - 112s 238ms/step - loss: 0.4607 - accuracy: 0.7908 - val_loss: 0.4496 - val_accuracy: 0.7872\n",
            "Epoch 11/35\n",
            "469/469 [==============================] - 111s 237ms/step - loss: 0.4481 - accuracy: 0.7920 - val_loss: 0.4467 - val_accuracy: 0.7918\n",
            "Epoch 12/35\n",
            "469/469 [==============================] - 112s 238ms/step - loss: 0.4427 - accuracy: 0.8014 - val_loss: 0.4196 - val_accuracy: 0.8174\n",
            "Epoch 13/35\n",
            "469/469 [==============================] - 111s 238ms/step - loss: 0.4255 - accuracy: 0.8091 - val_loss: 0.4122 - val_accuracy: 0.8171\n",
            "Epoch 14/35\n",
            "469/469 [==============================] - 111s 237ms/step - loss: 0.4232 - accuracy: 0.8105 - val_loss: 0.4493 - val_accuracy: 0.7843\n",
            "Epoch 15/35\n",
            "469/469 [==============================] - 111s 238ms/step - loss: 0.4196 - accuracy: 0.8145 - val_loss: 0.4178 - val_accuracy: 0.8054\n",
            "Epoch 16/35\n",
            "469/469 [==============================] - 112s 238ms/step - loss: 0.4093 - accuracy: 0.8204 - val_loss: 0.4359 - val_accuracy: 0.7872\n",
            "Epoch 17/35\n",
            "469/469 [==============================] - 111s 237ms/step - loss: 0.4004 - accuracy: 0.8223 - val_loss: 0.3917 - val_accuracy: 0.8123\n",
            "Epoch 18/35\n",
            "469/469 [==============================] - 111s 237ms/step - loss: 0.3985 - accuracy: 0.8269 - val_loss: 0.3810 - val_accuracy: 0.8241\n",
            "Epoch 19/35\n",
            "469/469 [==============================] - 111s 237ms/step - loss: 0.3883 - accuracy: 0.8331 - val_loss: 0.4155 - val_accuracy: 0.8097\n",
            "Epoch 20/35\n",
            "469/469 [==============================] - 111s 238ms/step - loss: 0.3859 - accuracy: 0.8267 - val_loss: 0.3621 - val_accuracy: 0.8422\n",
            "Epoch 21/35\n",
            "469/469 [==============================] - 111s 238ms/step - loss: 0.3875 - accuracy: 0.8326 - val_loss: 0.4118 - val_accuracy: 0.8121\n",
            "Epoch 22/35\n",
            "469/469 [==============================] - 111s 238ms/step - loss: 0.3742 - accuracy: 0.8355 - val_loss: 0.4164 - val_accuracy: 0.8051\n",
            "Epoch 23/35\n",
            "469/469 [==============================] - 111s 237ms/step - loss: 0.3688 - accuracy: 0.8419 - val_loss: 0.3641 - val_accuracy: 0.8385\n",
            "Epoch 24/35\n",
            "469/469 [==============================] - 111s 237ms/step - loss: 0.3634 - accuracy: 0.8417 - val_loss: 0.3675 - val_accuracy: 0.8332\n",
            "Epoch 25/35\n",
            "469/469 [==============================] - 111s 237ms/step - loss: 0.3643 - accuracy: 0.8431 - val_loss: 0.3996 - val_accuracy: 0.8187\n",
            "Epoch 26/35\n",
            "469/469 [==============================] - 111s 237ms/step - loss: 0.3628 - accuracy: 0.8454 - val_loss: 0.3301 - val_accuracy: 0.8542\n",
            "Epoch 27/35\n",
            "469/469 [==============================] - 111s 237ms/step - loss: 0.3611 - accuracy: 0.8417 - val_loss: 0.3878 - val_accuracy: 0.8150\n",
            "Epoch 28/35\n",
            "469/469 [==============================] - 111s 237ms/step - loss: 0.3592 - accuracy: 0.8431 - val_loss: 0.3341 - val_accuracy: 0.8529\n",
            "Epoch 29/35\n",
            "469/469 [==============================] - 111s 237ms/step - loss: 0.3474 - accuracy: 0.8500 - val_loss: 0.4100 - val_accuracy: 0.8019\n",
            "Epoch 30/35\n",
            "469/469 [==============================] - 111s 238ms/step - loss: 0.3470 - accuracy: 0.8502 - val_loss: 0.3788 - val_accuracy: 0.8300\n",
            "Epoch 31/35\n",
            "469/469 [==============================] - 111s 237ms/step - loss: 0.3441 - accuracy: 0.8518 - val_loss: 0.3599 - val_accuracy: 0.8516\n",
            "Epoch 32/35\n",
            "469/469 [==============================] - 112s 238ms/step - loss: 0.3407 - accuracy: 0.8548 - val_loss: 0.3437 - val_accuracy: 0.8430\n",
            "Epoch 33/35\n",
            "469/469 [==============================] - 111s 237ms/step - loss: 0.3450 - accuracy: 0.8546 - val_loss: 0.3156 - val_accuracy: 0.8607\n",
            "Epoch 34/35\n",
            "469/469 [==============================] - 111s 236ms/step - loss: 0.3355 - accuracy: 0.8585 - val_loss: 0.3239 - val_accuracy: 0.8641\n",
            "Epoch 35/35\n",
            "469/469 [==============================] - 110s 235ms/step - loss: 0.3288 - accuracy: 0.8571 - val_loss: 0.3418 - val_accuracy: 0.8470\n",
            "147/147 [==============================] - 13s 91ms/step - loss: 0.3108 - accuracy: 0.8667\n",
            "Found 3745 validated image filenames belonging to 2 classes.\n",
            "Found 14983 validated image filenames belonging to 2 classes.\n",
            "Epoch 1/35\n",
            "469/469 [==============================] - 112s 235ms/step - loss: 0.6961 - accuracy: 0.5081 - val_loss: 0.6924 - val_accuracy: 0.5212\n",
            "Epoch 2/35\n",
            "469/469 [==============================] - 110s 236ms/step - loss: 0.6631 - accuracy: 0.6046 - val_loss: 0.6346 - val_accuracy: 0.6526\n",
            "Epoch 3/35\n",
            "469/469 [==============================] - 110s 235ms/step - loss: 0.6140 - accuracy: 0.6687 - val_loss: 0.5711 - val_accuracy: 0.7055\n",
            "Epoch 4/35\n",
            "469/469 [==============================] - 110s 235ms/step - loss: 0.5764 - accuracy: 0.7037 - val_loss: 0.5414 - val_accuracy: 0.7284\n",
            "Epoch 5/35\n",
            "469/469 [==============================] - 110s 236ms/step - loss: 0.5534 - accuracy: 0.7167 - val_loss: 0.5305 - val_accuracy: 0.7362\n",
            "Epoch 6/35\n",
            "469/469 [==============================] - 111s 236ms/step - loss: 0.5387 - accuracy: 0.7282 - val_loss: 0.5033 - val_accuracy: 0.7538\n",
            "Epoch 7/35\n",
            "469/469 [==============================] - 110s 235ms/step - loss: 0.5158 - accuracy: 0.7488 - val_loss: 0.4824 - val_accuracy: 0.7704\n",
            "Epoch 8/35\n",
            "469/469 [==============================] - 110s 236ms/step - loss: 0.5002 - accuracy: 0.7583 - val_loss: 0.4754 - val_accuracy: 0.7698\n",
            "Epoch 9/35\n",
            "469/469 [==============================] - 110s 236ms/step - loss: 0.4888 - accuracy: 0.7657 - val_loss: 0.4390 - val_accuracy: 0.7960\n",
            "Epoch 10/35\n",
            "469/469 [==============================] - 110s 235ms/step - loss: 0.4756 - accuracy: 0.7779 - val_loss: 0.4887 - val_accuracy: 0.7509\n",
            "Epoch 11/35\n",
            "469/469 [==============================] - 111s 236ms/step - loss: 0.4626 - accuracy: 0.7815 - val_loss: 0.4324 - val_accuracy: 0.8061\n",
            "Epoch 12/35\n",
            "469/469 [==============================] - 111s 236ms/step - loss: 0.4655 - accuracy: 0.7851 - val_loss: 0.4270 - val_accuracy: 0.8053\n",
            "Epoch 13/35\n",
            "469/469 [==============================] - 110s 235ms/step - loss: 0.4457 - accuracy: 0.7926 - val_loss: 0.4042 - val_accuracy: 0.8232\n",
            "Epoch 14/35\n",
            "469/469 [==============================] - 110s 235ms/step - loss: 0.4375 - accuracy: 0.8018 - val_loss: 0.4126 - val_accuracy: 0.8109\n",
            "Epoch 15/35\n",
            "469/469 [==============================] - 110s 236ms/step - loss: 0.4281 - accuracy: 0.8076 - val_loss: 0.3954 - val_accuracy: 0.8259\n",
            "Epoch 16/35\n",
            "469/469 [==============================] - 110s 235ms/step - loss: 0.4232 - accuracy: 0.8113 - val_loss: 0.4000 - val_accuracy: 0.8211\n",
            "Epoch 17/35\n",
            "469/469 [==============================] - 110s 235ms/step - loss: 0.4212 - accuracy: 0.8111 - val_loss: 0.3828 - val_accuracy: 0.8280\n",
            "Epoch 18/35\n",
            "469/469 [==============================] - 110s 235ms/step - loss: 0.4132 - accuracy: 0.8155 - val_loss: 0.3953 - val_accuracy: 0.8211\n",
            "Epoch 19/35\n",
            "469/469 [==============================] - 110s 236ms/step - loss: 0.4061 - accuracy: 0.8222 - val_loss: 0.3971 - val_accuracy: 0.8214\n",
            "Epoch 20/35\n",
            "469/469 [==============================] - 110s 235ms/step - loss: 0.4041 - accuracy: 0.8203 - val_loss: 0.3982 - val_accuracy: 0.8093\n",
            "Epoch 21/35\n",
            "469/469 [==============================] - 110s 235ms/step - loss: 0.3974 - accuracy: 0.8303 - val_loss: 0.3843 - val_accuracy: 0.8283\n",
            "Epoch 22/35\n",
            "469/469 [==============================] - 110s 235ms/step - loss: 0.3921 - accuracy: 0.8267 - val_loss: 0.3648 - val_accuracy: 0.8403\n",
            "Epoch 23/35\n",
            "469/469 [==============================] - 110s 236ms/step - loss: 0.3838 - accuracy: 0.8303 - val_loss: 0.3463 - val_accuracy: 0.8470\n",
            "Epoch 24/35\n",
            "469/469 [==============================] - 110s 235ms/step - loss: 0.3844 - accuracy: 0.8301 - val_loss: 0.3628 - val_accuracy: 0.8350\n",
            "Epoch 25/35\n",
            "469/469 [==============================] - 110s 235ms/step - loss: 0.3827 - accuracy: 0.8337 - val_loss: 0.3629 - val_accuracy: 0.8419\n",
            "Epoch 26/35\n",
            "469/469 [==============================] - 111s 236ms/step - loss: 0.3729 - accuracy: 0.8377 - val_loss: 0.3684 - val_accuracy: 0.8347\n",
            "Epoch 27/35\n",
            "469/469 [==============================] - 110s 235ms/step - loss: 0.3729 - accuracy: 0.8353 - val_loss: 0.3660 - val_accuracy: 0.8326\n",
            "Epoch 28/35\n",
            "469/469 [==============================] - 110s 235ms/step - loss: 0.3630 - accuracy: 0.8408 - val_loss: 0.3674 - val_accuracy: 0.8377\n",
            "Epoch 29/35\n",
            "469/469 [==============================] - 110s 235ms/step - loss: 0.3682 - accuracy: 0.8398 - val_loss: 0.3390 - val_accuracy: 0.8571\n",
            "Epoch 30/35\n",
            "469/469 [==============================] - 110s 236ms/step - loss: 0.3629 - accuracy: 0.8433 - val_loss: 0.3642 - val_accuracy: 0.8454\n",
            "Epoch 31/35\n",
            "469/469 [==============================] - 110s 236ms/step - loss: 0.3618 - accuracy: 0.8404 - val_loss: 0.3238 - val_accuracy: 0.8569\n",
            "Epoch 32/35\n",
            "469/469 [==============================] - 111s 236ms/step - loss: 0.3555 - accuracy: 0.8480 - val_loss: 0.3386 - val_accuracy: 0.8515\n",
            "Epoch 33/35\n",
            "469/469 [==============================] - 110s 235ms/step - loss: 0.3495 - accuracy: 0.8480 - val_loss: 0.3233 - val_accuracy: 0.8611\n",
            "Epoch 34/35\n",
            "469/469 [==============================] - 110s 236ms/step - loss: 0.3492 - accuracy: 0.8509 - val_loss: 0.3345 - val_accuracy: 0.8617\n",
            "Epoch 35/35\n",
            "469/469 [==============================] - 111s 236ms/step - loss: 0.3459 - accuracy: 0.8490 - val_loss: 0.3335 - val_accuracy: 0.8537\n",
            "147/147 [==============================] - 13s 90ms/step - loss: 0.3357 - accuracy: 0.8522\n",
            "Found 3746 validated image filenames belonging to 2 classes.\n",
            "Found 14982 validated image filenames belonging to 2 classes.\n",
            "Epoch 1/35\n",
            "469/469 [==============================] - 112s 235ms/step - loss: 0.6918 - accuracy: 0.5263 - val_loss: 0.6897 - val_accuracy: 0.5529\n",
            "Epoch 2/35\n",
            "469/469 [==============================] - 110s 235ms/step - loss: 0.6825 - accuracy: 0.5597 - val_loss: 0.6717 - val_accuracy: 0.5761\n",
            "Epoch 3/35\n",
            "469/469 [==============================] - 110s 235ms/step - loss: 0.6646 - accuracy: 0.6043 - val_loss: 0.6312 - val_accuracy: 0.6562\n",
            "Epoch 4/35\n",
            "469/469 [==============================] - 110s 235ms/step - loss: 0.6281 - accuracy: 0.6546 - val_loss: 0.6003 - val_accuracy: 0.6898\n",
            "Epoch 5/35\n",
            "469/469 [==============================] - 110s 236ms/step - loss: 0.5867 - accuracy: 0.6953 - val_loss: 0.5282 - val_accuracy: 0.7496\n",
            "Epoch 6/35\n",
            "469/469 [==============================] - 110s 235ms/step - loss: 0.5553 - accuracy: 0.7185 - val_loss: 0.5183 - val_accuracy: 0.7491\n",
            "Epoch 7/35\n",
            "469/469 [==============================] - 111s 237ms/step - loss: 0.5327 - accuracy: 0.7340 - val_loss: 0.4878 - val_accuracy: 0.7688\n",
            "Epoch 8/35\n",
            "469/469 [==============================] - 111s 236ms/step - loss: 0.5163 - accuracy: 0.7478 - val_loss: 0.4667 - val_accuracy: 0.7755\n",
            "Epoch 9/35\n",
            "469/469 [==============================] - 110s 235ms/step - loss: 0.5044 - accuracy: 0.7558 - val_loss: 0.4780 - val_accuracy: 0.7702\n",
            "Epoch 10/35\n",
            "469/469 [==============================] - 110s 235ms/step - loss: 0.4911 - accuracy: 0.7638 - val_loss: 0.4480 - val_accuracy: 0.7904\n",
            "Epoch 11/35\n",
            "469/469 [==============================] - 111s 236ms/step - loss: 0.4824 - accuracy: 0.7753 - val_loss: 0.4838 - val_accuracy: 0.7659\n",
            "Epoch 12/35\n",
            "469/469 [==============================] - 110s 235ms/step - loss: 0.4696 - accuracy: 0.7804 - val_loss: 0.4720 - val_accuracy: 0.7731\n",
            "Epoch 13/35\n",
            "469/469 [==============================] - 110s 235ms/step - loss: 0.4616 - accuracy: 0.7839 - val_loss: 0.4380 - val_accuracy: 0.8030\n",
            "Epoch 14/35\n",
            "469/469 [==============================] - 110s 235ms/step - loss: 0.4513 - accuracy: 0.7930 - val_loss: 0.4903 - val_accuracy: 0.7624\n",
            "Epoch 15/35\n",
            "469/469 [==============================] - 110s 235ms/step - loss: 0.4491 - accuracy: 0.7966 - val_loss: 0.4574 - val_accuracy: 0.7846\n",
            "Epoch 16/35\n",
            "469/469 [==============================] - 110s 235ms/step - loss: 0.4369 - accuracy: 0.7960 - val_loss: 0.4201 - val_accuracy: 0.8011\n",
            "Epoch 17/35\n",
            "469/469 [==============================] - 110s 235ms/step - loss: 0.4309 - accuracy: 0.8039 - val_loss: 0.4801 - val_accuracy: 0.7683\n",
            "Epoch 18/35\n",
            "469/469 [==============================] - 110s 235ms/step - loss: 0.4248 - accuracy: 0.8122 - val_loss: 0.4449 - val_accuracy: 0.7899\n",
            "Epoch 19/35\n",
            "469/469 [==============================] - 110s 235ms/step - loss: 0.4180 - accuracy: 0.8094 - val_loss: 0.4251 - val_accuracy: 0.8041\n",
            "Epoch 20/35\n",
            "469/469 [==============================] - 110s 235ms/step - loss: 0.4153 - accuracy: 0.8162 - val_loss: 0.4798 - val_accuracy: 0.7768\n",
            "Epoch 21/35\n",
            "469/469 [==============================] - 110s 235ms/step - loss: 0.4155 - accuracy: 0.8142 - val_loss: 0.4400 - val_accuracy: 0.7944\n",
            "Epoch 22/35\n",
            "469/469 [==============================] - 111s 236ms/step - loss: 0.4035 - accuracy: 0.8207 - val_loss: 0.4176 - val_accuracy: 0.8075\n",
            "Epoch 23/35\n",
            "469/469 [==============================] - 110s 235ms/step - loss: 0.3936 - accuracy: 0.8246 - val_loss: 0.4062 - val_accuracy: 0.8174\n",
            "Epoch 24/35\n",
            "469/469 [==============================] - 110s 235ms/step - loss: 0.3931 - accuracy: 0.8288 - val_loss: 0.3734 - val_accuracy: 0.8337\n",
            "Epoch 25/35\n",
            "469/469 [==============================] - 110s 235ms/step - loss: 0.3908 - accuracy: 0.8246 - val_loss: 0.4320 - val_accuracy: 0.8091\n",
            "Epoch 26/35\n",
            "469/469 [==============================] - 110s 235ms/step - loss: 0.3860 - accuracy: 0.8309 - val_loss: 0.4632 - val_accuracy: 0.7806\n",
            "Epoch 27/35\n",
            "469/469 [==============================] - 110s 235ms/step - loss: 0.3865 - accuracy: 0.8312 - val_loss: 0.3831 - val_accuracy: 0.8278\n",
            "Epoch 28/35\n",
            "469/469 [==============================] - 110s 236ms/step - loss: 0.3819 - accuracy: 0.8320 - val_loss: 0.3800 - val_accuracy: 0.8318\n",
            "Epoch 29/35\n",
            "469/469 [==============================] - 110s 235ms/step - loss: 0.3769 - accuracy: 0.8381 - val_loss: 0.3606 - val_accuracy: 0.8433\n",
            "Epoch 30/35\n",
            "469/469 [==============================] - 110s 235ms/step - loss: 0.3803 - accuracy: 0.8323 - val_loss: 0.4197 - val_accuracy: 0.8153\n",
            "Epoch 31/35\n",
            "469/469 [==============================] - 110s 235ms/step - loss: 0.3731 - accuracy: 0.8363 - val_loss: 0.3363 - val_accuracy: 0.8526\n",
            "Epoch 32/35\n",
            "469/469 [==============================] - 110s 235ms/step - loss: 0.3707 - accuracy: 0.8388 - val_loss: 0.4063 - val_accuracy: 0.8134\n",
            "Epoch 33/35\n",
            "469/469 [==============================] - 110s 235ms/step - loss: 0.3621 - accuracy: 0.8402 - val_loss: 0.3807 - val_accuracy: 0.8254\n",
            "Epoch 34/35\n",
            "469/469 [==============================] - 111s 236ms/step - loss: 0.3641 - accuracy: 0.8469 - val_loss: 0.3390 - val_accuracy: 0.8526\n",
            "Epoch 35/35\n",
            "469/469 [==============================] - 110s 235ms/step - loss: 0.3596 - accuracy: 0.8443 - val_loss: 0.3401 - val_accuracy: 0.8532\n",
            "147/147 [==============================] - 13s 91ms/step - loss: 0.3330 - accuracy: 0.8567\n",
            "Found 3746 validated image filenames belonging to 2 classes.\n",
            "Found 14982 validated image filenames belonging to 2 classes.\n",
            "Epoch 1/35\n",
            "469/469 [==============================] - 112s 235ms/step - loss: 0.6894 - accuracy: 0.5350 - val_loss: 0.6702 - val_accuracy: 0.5820\n",
            "Epoch 2/35\n",
            "469/469 [==============================] - 110s 236ms/step - loss: 0.6516 - accuracy: 0.6111 - val_loss: 0.5971 - val_accuracy: 0.6620\n",
            "Epoch 3/35\n",
            "469/469 [==============================] - 111s 236ms/step - loss: 0.6069 - accuracy: 0.6734 - val_loss: 0.5676 - val_accuracy: 0.7018\n",
            "Epoch 4/35\n",
            "469/469 [==============================] - 110s 235ms/step - loss: 0.5766 - accuracy: 0.7024 - val_loss: 0.5476 - val_accuracy: 0.7253\n",
            "Epoch 5/35\n",
            "469/469 [==============================] - 110s 235ms/step - loss: 0.5544 - accuracy: 0.7199 - val_loss: 0.5229 - val_accuracy: 0.7389\n",
            "Epoch 6/35\n",
            "469/469 [==============================] - 111s 236ms/step - loss: 0.5371 - accuracy: 0.7369 - val_loss: 0.5267 - val_accuracy: 0.7515\n",
            "Epoch 7/35\n",
            "469/469 [==============================] - 110s 235ms/step - loss: 0.5302 - accuracy: 0.7355 - val_loss: 0.4831 - val_accuracy: 0.7648\n",
            "Epoch 8/35\n",
            "469/469 [==============================] - 110s 235ms/step - loss: 0.5042 - accuracy: 0.7546 - val_loss: 0.4788 - val_accuracy: 0.7635\n",
            "Epoch 9/35\n",
            "469/469 [==============================] - 110s 235ms/step - loss: 0.4877 - accuracy: 0.7707 - val_loss: 0.4645 - val_accuracy: 0.7822\n",
            "Epoch 10/35\n",
            "469/469 [==============================] - 110s 235ms/step - loss: 0.4831 - accuracy: 0.7711 - val_loss: 0.4587 - val_accuracy: 0.7870\n",
            "Epoch 11/35\n",
            "469/469 [==============================] - 110s 235ms/step - loss: 0.4694 - accuracy: 0.7840 - val_loss: 0.4412 - val_accuracy: 0.8049\n",
            "Epoch 12/35\n",
            "469/469 [==============================] - 110s 236ms/step - loss: 0.4572 - accuracy: 0.7895 - val_loss: 0.4350 - val_accuracy: 0.8099\n",
            "Epoch 13/35\n",
            "469/469 [==============================] - 110s 235ms/step - loss: 0.4450 - accuracy: 0.7960 - val_loss: 0.4140 - val_accuracy: 0.8067\n",
            "Epoch 14/35\n",
            "469/469 [==============================] - 111s 236ms/step - loss: 0.4323 - accuracy: 0.8050 - val_loss: 0.4207 - val_accuracy: 0.8147\n",
            "Epoch 15/35\n",
            "469/469 [==============================] - 110s 235ms/step - loss: 0.4380 - accuracy: 0.8007 - val_loss: 0.3942 - val_accuracy: 0.8267\n",
            "Epoch 16/35\n",
            "469/469 [==============================] - 110s 236ms/step - loss: 0.4266 - accuracy: 0.8089 - val_loss: 0.3975 - val_accuracy: 0.8177\n",
            "Epoch 17/35\n",
            "469/469 [==============================] - 110s 235ms/step - loss: 0.4154 - accuracy: 0.8159 - val_loss: 0.3872 - val_accuracy: 0.8281\n",
            "Epoch 18/35\n",
            "469/469 [==============================] - 110s 235ms/step - loss: 0.4090 - accuracy: 0.8213 - val_loss: 0.3904 - val_accuracy: 0.8254\n",
            "Epoch 19/35\n",
            "469/469 [==============================] - 110s 236ms/step - loss: 0.4114 - accuracy: 0.8163 - val_loss: 0.3666 - val_accuracy: 0.8318\n",
            "Epoch 20/35\n",
            "469/469 [==============================] - 110s 235ms/step - loss: 0.3992 - accuracy: 0.8235 - val_loss: 0.3715 - val_accuracy: 0.8404\n",
            "Epoch 21/35\n",
            "469/469 [==============================] - 110s 235ms/step - loss: 0.3927 - accuracy: 0.8287 - val_loss: 0.3945 - val_accuracy: 0.8227\n",
            "Epoch 22/35\n",
            "469/469 [==============================] - 110s 235ms/step - loss: 0.3882 - accuracy: 0.8308 - val_loss: 0.3776 - val_accuracy: 0.8337\n",
            "Epoch 23/35\n",
            "469/469 [==============================] - 110s 235ms/step - loss: 0.3852 - accuracy: 0.8306 - val_loss: 0.3427 - val_accuracy: 0.8505\n",
            "Epoch 24/35\n",
            "469/469 [==============================] - 111s 236ms/step - loss: 0.3779 - accuracy: 0.8334 - val_loss: 0.3607 - val_accuracy: 0.8478\n",
            "Epoch 25/35\n",
            "469/469 [==============================] - 110s 235ms/step - loss: 0.3716 - accuracy: 0.8381 - val_loss: 0.3779 - val_accuracy: 0.8361\n",
            "Epoch 26/35\n",
            "469/469 [==============================] - 110s 235ms/step - loss: 0.3667 - accuracy: 0.8381 - val_loss: 0.3544 - val_accuracy: 0.8460\n",
            "Epoch 27/35\n",
            "469/469 [==============================] - 110s 235ms/step - loss: 0.3668 - accuracy: 0.8433 - val_loss: 0.3321 - val_accuracy: 0.8569\n",
            "Epoch 28/35\n",
            "469/469 [==============================] - 110s 236ms/step - loss: 0.3714 - accuracy: 0.8371 - val_loss: 0.3457 - val_accuracy: 0.8577\n",
            "Epoch 29/35\n",
            "469/469 [==============================] - 110s 235ms/step - loss: 0.3656 - accuracy: 0.8424 - val_loss: 0.3458 - val_accuracy: 0.8486\n",
            "Epoch 30/35\n",
            "469/469 [==============================] - 110s 235ms/step - loss: 0.3595 - accuracy: 0.8445 - val_loss: 0.3336 - val_accuracy: 0.8601\n",
            "Epoch 31/35\n",
            "469/469 [==============================] - 111s 236ms/step - loss: 0.3501 - accuracy: 0.8478 - val_loss: 0.3399 - val_accuracy: 0.8500\n",
            "Epoch 32/35\n",
            "469/469 [==============================] - 110s 236ms/step - loss: 0.3513 - accuracy: 0.8487 - val_loss: 0.4143 - val_accuracy: 0.8153\n",
            "Epoch 33/35\n",
            "469/469 [==============================] - 111s 236ms/step - loss: 0.3421 - accuracy: 0.8525 - val_loss: 0.3347 - val_accuracy: 0.8532\n",
            "Epoch 34/35\n",
            "469/469 [==============================] - 110s 235ms/step - loss: 0.3451 - accuracy: 0.8531 - val_loss: 0.3425 - val_accuracy: 0.8481\n",
            "Epoch 35/35\n",
            "469/469 [==============================] - 111s 236ms/step - loss: 0.3457 - accuracy: 0.8519 - val_loss: 0.4003 - val_accuracy: 0.8187\n",
            "147/147 [==============================] - 13s 91ms/step - loss: 0.3449 - accuracy: 0.8486\n"
          ]
        }
      ],
      "source": [
        "test_acc = [] #LIST TO ACCURACY\n",
        "ind1 = 0\n",
        "ind2 = int(0.2*len(df_tv)) #20% of DF\n",
        "\n",
        "# FINAL DATA GENERATOR \n",
        "datagen_FINAL = ImageDataGenerator(rescale=1.0/255, validation_split=0.2, horizontal_flip=True, rotation_range=30)\n",
        "\n",
        "# FOR LOOP\n",
        "for k in range(5):\n",
        "  #Slice df into train & val, as per the k-th fold\n",
        "  dfval = df_tv.iloc[ind1:ind2]\n",
        "  dftrain = df_tv.drop(dfval.index)\n",
        "\n",
        "  dsval = datagen_FINAL.flow_from_dataframe(dataframe=dfval, directory=\"/content/CatsDogs\", x_col='filename', y_col='label', target_size=(128,128), class_mode='binary')\n",
        "  \n",
        "  dstrain = datagen_FINAL.flow_from_dataframe(dataframe=dftrain, directory=\"/content/CatsDogs\", x_col='filename', y_col='label', target_size=(128,128), class_mode='binary')\n",
        "  \n",
        "  # Define the FINAL MODEL architecture\n",
        "  model = Sequential()\n",
        "  model.add(Conv2D(filters= 64, kernel_size = (3,3), input_shape = (128, 128,3))) #Justification, with literature i change all from 32 to 64\n",
        "  model.add(Activation(\"relu\"))\n",
        "  model.add(MaxPooling2D(pool_size = (2,2)))\n",
        "  model.add(Dropout(0.3))\n",
        "  # FINAL MODEL. SECOND LAYYER.\n",
        "  model.add(Conv2D(filters= 64, kernel_size = (3,3)))\n",
        "  model.add(Activation(\"relu\"))\n",
        "  model.add(MaxPooling2D(pool_size = (2,2)))\n",
        "  model.add(Dropout(0.3))\n",
        "  # FINAL MODEL. THIRD LAYER.\n",
        "  model.add(Conv2D(filters= 64, kernel_size = (3,3)))\n",
        "  model.add(Activation(\"relu\"))\n",
        "  model.add(MaxPooling2D(pool_size = (2,2)))\n",
        "  model.add(Dropout(0.3))\n",
        "  # FINAL MODEL. Fully connected layer.\n",
        "  model.add(Flatten())\n",
        "  model.add(Dense(64))\n",
        "  model.add(Activation(\"relu\"))\n",
        "  model.add(Dropout(0.6))\n",
        "  # FINAL MODEL. Output layer.\n",
        "  model.add(Dense(1))\n",
        "  model.add(Activation('sigmoid'))\n",
        "  # THIRD MODEL COMPILE\n",
        "  model.compile(optimizer='adam',loss='binary_crossentropy', metrics = ['accuracy'])\n",
        "\n",
        "  model.fit(dstrain, epochs=35, validation_data = dsval) #EPOCHS ARE ONLY 35 BECAUSE IT TAKES TOO LONG. I KNOW THAT IT IS NOT IDEAL, BUT THIS IS GIVEN THE AMOUNT OF COMPUTATIONAL POWER I HAVE FROM COLAB. \n",
        " \n",
        "\n",
        "  eval = model.evaluate(test_set)\n",
        "  test_acc.append(eval[1])\n",
        "  \n",
        "  #COMPUTE THE INDIXES\n",
        "  ind1=ind2\n",
        "  ind2=int(0.2*(k+2)*len(df_tv))"
      ]
    },
    {
      "cell_type": "code",
      "execution_count": null,
      "metadata": {
        "colab": {
          "base_uri": "https://localhost:8080/"
        },
        "id": "-cPcjgACcSCC",
        "outputId": "345073bc-cbf6-4df6-8be0-de82e55ae423"
      },
      "outputs": [
        {
          "data": {
            "text/plain": [
              "0.8570696115493774"
            ]
          },
          "execution_count": 20,
          "metadata": {},
          "output_type": "execute_result"
        }
      ],
      "source": [
        "np.mean(test_acc) #This is the final result. THE MEAN OF THE CROSS VALIDATION OF MY LAST AND FINAL MODEL. IN GOD WE TRUST. FINE!"
      ]
    },
    {
      "cell_type": "code",
      "execution_count": null,
      "metadata": {
        "colab": {
          "base_uri": "https://localhost:8080/"
        },
        "id": "uDHWWYaecrpp",
        "outputId": "c39e714c-be70-4983-af70-f5e26642434f"
      },
      "outputs": [
        {
          "data": {
            "text/plain": [
              "[0.8611704111099243,\n",
              " 0.8667235970497131,\n",
              " 0.852199912071228,\n",
              " 0.8566851615905762,\n",
              " 0.8485689759254456]"
            ]
          },
          "execution_count": 23,
          "metadata": {},
          "output_type": "execute_result"
        }
      ],
      "source": [
        "test_acc # Evert fold. From 1 to 5."
      ]
    }
  ],
  "metadata": {
    "accelerator": "GPU",
    "colab": {
      "gpuType": "T4",
      "provenance": []
    },
    "gpuClass": "standard",
    "kernelspec": {
      "display_name": "Python 3",
      "name": "python3"
    },
    "language_info": {
      "name": "python"
    }
  },
  "nbformat": 4,
  "nbformat_minor": 0
}
